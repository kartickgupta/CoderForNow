{
 "cells": [
  {
   "cell_type": "code",
   "execution_count": 1,
   "metadata": {},
   "outputs": [],
   "source": [
    "import pandas as pd\n",
    "import math\n",
    "import numpy as np\n",
    "from sklearn import preprocessing, svm, model_selection\n",
    "from sklearn.linear_model import LinearRegression\n",
    "import datetime\n",
    "import matplotlib.pyplot as plt\n",
    "from matplotlib import style\n",
    "import pickle"
   ]
  },
  {
   "cell_type": "code",
   "execution_count": 2,
   "metadata": {},
   "outputs": [
    {
     "data": {
      "text/plain": [
       "Date          object\n",
       "Open         float64\n",
       "High         float64\n",
       "Low          float64\n",
       "Close        float64\n",
       "Volume         int64\n",
       "Adj Close    float64\n",
       "dtype: object"
      ]
     },
     "execution_count": 2,
     "metadata": {},
     "output_type": "execute_result"
    }
   ],
   "source": [
    "df = pd.read_csv('../Machine-Learning/Datasets/tesla-stock.csv')\n",
    "df.dtypes"
   ]
  },
  {
   "cell_type": "code",
   "execution_count": 3,
   "metadata": {},
   "outputs": [
    {
     "data": {
      "text/plain": [
       "Date         datetime64[ns]\n",
       "Open                float64\n",
       "High                float64\n",
       "Low                 float64\n",
       "Close               float64\n",
       "Volume                int64\n",
       "Adj Close           float64\n",
       "dtype: object"
      ]
     },
     "execution_count": 3,
     "metadata": {},
     "output_type": "execute_result"
    }
   ],
   "source": [
    "df['Date'] = pd.to_datetime(df['Date'], dayfirst = False, yearfirst = False)\n",
    "df.dtypes"
   ]
  },
  {
   "cell_type": "code",
   "execution_count": 4,
   "metadata": {},
   "outputs": [],
   "source": [
    "df = df.set_index('Date')"
   ]
  },
  {
   "cell_type": "markdown",
   "metadata": {},
   "source": [
    "# Labels and Features"
   ]
  },
  {
   "cell_type": "markdown",
   "metadata": {},
   "source": [
    "### Features - it's the set of attributes which are actually input and on which our model will be trained.\n",
    "\n",
    "### Labels - It's the set of attributes which are actually output, i.e values on which data will be tested and results will be predicted."
   ]
  },
  {
   "cell_type": "markdown",
   "metadata": {},
   "source": [
    "#### Adding new and more usefull features in the DataFrame - "
   ]
  },
  {
   "cell_type": "code",
   "execution_count": 5,
   "metadata": {},
   "outputs": [],
   "source": [
    "df['HL_PCT'] = (df['High'] - df['Low']) / df['Low'] * 100\n",
    "df['PCT_Change'] = (df['Close'] - df['Open']) / df['Open'] * 100"
   ]
  },
  {
   "cell_type": "code",
   "execution_count": 6,
   "metadata": {},
   "outputs": [],
   "source": [
    "#           X           X          price     X\n",
    "df = df[['HL_PCT', 'PCT_Change', 'Close', 'Volume']]"
   ]
  },
  {
   "cell_type": "code",
   "execution_count": 7,
   "metadata": {},
   "outputs": [
    {
     "data": {
      "text/html": [
       "<div>\n",
       "<style scoped>\n",
       "    .dataframe tbody tr th:only-of-type {\n",
       "        vertical-align: middle;\n",
       "    }\n",
       "\n",
       "    .dataframe tbody tr th {\n",
       "        vertical-align: top;\n",
       "    }\n",
       "\n",
       "    .dataframe thead th {\n",
       "        text-align: right;\n",
       "    }\n",
       "</style>\n",
       "<table border=\"1\" class=\"dataframe\">\n",
       "  <thead>\n",
       "    <tr style=\"text-align: right;\">\n",
       "      <th></th>\n",
       "      <th>HL_PCT</th>\n",
       "      <th>PCT_Change</th>\n",
       "      <th>Close</th>\n",
       "      <th>Volume</th>\n",
       "    </tr>\n",
       "    <tr>\n",
       "      <th>Date</th>\n",
       "      <th></th>\n",
       "      <th></th>\n",
       "      <th></th>\n",
       "      <th></th>\n",
       "    </tr>\n",
       "  </thead>\n",
       "  <tbody>\n",
       "    <tr>\n",
       "      <th>2010-06-29</th>\n",
       "      <td>42.531349</td>\n",
       "      <td>25.736837</td>\n",
       "      <td>23.889999</td>\n",
       "      <td>18766300</td>\n",
       "    </tr>\n",
       "    <tr>\n",
       "      <th>2010-06-30</th>\n",
       "      <td>30.557946</td>\n",
       "      <td>-7.599848</td>\n",
       "      <td>23.830000</td>\n",
       "      <td>17187100</td>\n",
       "    </tr>\n",
       "    <tr>\n",
       "      <th>2010-07-01</th>\n",
       "      <td>27.873705</td>\n",
       "      <td>-12.160004</td>\n",
       "      <td>21.959999</td>\n",
       "      <td>8218800</td>\n",
       "    </tr>\n",
       "    <tr>\n",
       "      <th>2010-07-02</th>\n",
       "      <td>23.463395</td>\n",
       "      <td>-16.521735</td>\n",
       "      <td>19.200001</td>\n",
       "      <td>5139800</td>\n",
       "    </tr>\n",
       "    <tr>\n",
       "      <th>2010-07-06</th>\n",
       "      <td>26.342388</td>\n",
       "      <td>-19.449995</td>\n",
       "      <td>16.110001</td>\n",
       "      <td>6866900</td>\n",
       "    </tr>\n",
       "  </tbody>\n",
       "</table>\n",
       "</div>"
      ],
      "text/plain": [
       "               HL_PCT  PCT_Change      Close    Volume\n",
       "Date                                                  \n",
       "2010-06-29  42.531349   25.736837  23.889999  18766300\n",
       "2010-06-30  30.557946   -7.599848  23.830000  17187100\n",
       "2010-07-01  27.873705  -12.160004  21.959999   8218800\n",
       "2010-07-02  23.463395  -16.521735  19.200001   5139800\n",
       "2010-07-06  26.342388  -19.449995  16.110001   6866900"
      ]
     },
     "execution_count": 7,
     "metadata": {},
     "output_type": "execute_result"
    }
   ],
   "source": [
    "df.head()"
   ]
  },
  {
   "cell_type": "markdown",
   "metadata": {},
   "source": [
    "forcast_count = math.ceil(0.01*len(df))\n",
    "#### i.e. forecast_count represents 1% length of df or 17 days in this case\n",
    "#### This was done so that we can actually decide that for how many values / days / rows in future the value has to be predicted."
   ]
  },
  {
   "cell_type": "code",
   "execution_count": 8,
   "metadata": {},
   "outputs": [
    {
     "name": "stdout",
     "output_type": "stream",
     "text": [
      "170\n"
     ]
    }
   ],
   "source": [
    "forecast_col = 'Close'\n",
    "forecast_count = math.ceil(0.1*len(df))\n",
    "df.fillna(-99999, inplace=True)\n",
    "print(forecast_count)"
   ]
  },
  {
   "cell_type": "code",
   "execution_count": 9,
   "metadata": {},
   "outputs": [
    {
     "data": {
      "text/plain": [
       "Date\n",
       "2011-03-02     663300\n",
       "2011-03-03     640200\n",
       "2011-03-04    1580100\n",
       "2011-03-07    2033600\n",
       "2011-03-08    1399900\n",
       "               ...   \n",
       "2017-03-13    3010700\n",
       "2017-03-14    7575500\n",
       "2017-03-15    4816600\n",
       "2017-03-16    7100400\n",
       "2017-03-17    6475900\n",
       "Name: Volume, Length: 1522, dtype: int64"
      ]
     },
     "execution_count": 9,
     "metadata": {},
     "output_type": "execute_result"
    }
   ],
   "source": [
    "df.iloc[forecast_count:, 3]"
   ]
  },
  {
   "cell_type": "markdown",
   "metadata": {},
   "source": [
    "#### .shift(+/- value) - it shifts the column or DataFrame up & down respectively by the no of rows mentioned (values), empty places are filled with NaNs.\n",
    "#### above iloc is used to demostrate the shift taking place in the DataFrame which you can see below."
   ]
  },
  {
   "cell_type": "code",
   "execution_count": 10,
   "metadata": {},
   "outputs": [],
   "source": [
    "df['label'] = df[forecast_col].shift(-forecast_count)"
   ]
  },
  {
   "cell_type": "code",
   "execution_count": 11,
   "metadata": {},
   "outputs": [
    {
     "data": {
      "text/html": [
       "<div>\n",
       "<style scoped>\n",
       "    .dataframe tbody tr th:only-of-type {\n",
       "        vertical-align: middle;\n",
       "    }\n",
       "\n",
       "    .dataframe tbody tr th {\n",
       "        vertical-align: top;\n",
       "    }\n",
       "\n",
       "    .dataframe thead th {\n",
       "        text-align: right;\n",
       "    }\n",
       "</style>\n",
       "<table border=\"1\" class=\"dataframe\">\n",
       "  <thead>\n",
       "    <tr style=\"text-align: right;\">\n",
       "      <th></th>\n",
       "      <th>HL_PCT</th>\n",
       "      <th>PCT_Change</th>\n",
       "      <th>Close</th>\n",
       "      <th>Volume</th>\n",
       "      <th>label</th>\n",
       "    </tr>\n",
       "    <tr>\n",
       "      <th>Date</th>\n",
       "      <th></th>\n",
       "      <th></th>\n",
       "      <th></th>\n",
       "      <th></th>\n",
       "      <th></th>\n",
       "    </tr>\n",
       "  </thead>\n",
       "  <tbody>\n",
       "    <tr>\n",
       "      <th>2010-06-29</th>\n",
       "      <td>42.531349</td>\n",
       "      <td>25.736837</td>\n",
       "      <td>23.889999</td>\n",
       "      <td>18766300</td>\n",
       "      <td>24.020000</td>\n",
       "    </tr>\n",
       "    <tr>\n",
       "      <th>2010-06-30</th>\n",
       "      <td>30.557946</td>\n",
       "      <td>-7.599848</td>\n",
       "      <td>23.830000</td>\n",
       "      <td>17187100</td>\n",
       "      <td>24.360001</td>\n",
       "    </tr>\n",
       "    <tr>\n",
       "      <th>2010-07-01</th>\n",
       "      <td>27.873705</td>\n",
       "      <td>-12.160004</td>\n",
       "      <td>21.959999</td>\n",
       "      <td>8218800</td>\n",
       "      <td>24.950001</td>\n",
       "    </tr>\n",
       "    <tr>\n",
       "      <th>2010-07-02</th>\n",
       "      <td>23.463395</td>\n",
       "      <td>-16.521735</td>\n",
       "      <td>19.200001</td>\n",
       "      <td>5139800</td>\n",
       "      <td>24.940001</td>\n",
       "    </tr>\n",
       "    <tr>\n",
       "      <th>2010-07-06</th>\n",
       "      <td>26.342388</td>\n",
       "      <td>-19.449995</td>\n",
       "      <td>16.110001</td>\n",
       "      <td>6866900</td>\n",
       "      <td>24.660000</td>\n",
       "    </tr>\n",
       "    <tr>\n",
       "      <th>...</th>\n",
       "      <td>...</td>\n",
       "      <td>...</td>\n",
       "      <td>...</td>\n",
       "      <td>...</td>\n",
       "      <td>...</td>\n",
       "    </tr>\n",
       "    <tr>\n",
       "      <th>2017-03-13</th>\n",
       "      <td>1.676418</td>\n",
       "      <td>0.551422</td>\n",
       "      <td>246.169998</td>\n",
       "      <td>3010700</td>\n",
       "      <td>NaN</td>\n",
       "    </tr>\n",
       "    <tr>\n",
       "      <th>2017-03-14</th>\n",
       "      <td>4.918296</td>\n",
       "      <td>4.831173</td>\n",
       "      <td>258.000000</td>\n",
       "      <td>7575500</td>\n",
       "      <td>NaN</td>\n",
       "    </tr>\n",
       "    <tr>\n",
       "      <th>2017-03-15</th>\n",
       "      <td>2.646791</td>\n",
       "      <td>-0.494165</td>\n",
       "      <td>255.729996</td>\n",
       "      <td>4816600</td>\n",
       "      <td>NaN</td>\n",
       "    </tr>\n",
       "    <tr>\n",
       "      <th>2017-03-16</th>\n",
       "      <td>2.582414</td>\n",
       "      <td>-0.133386</td>\n",
       "      <td>262.049988</td>\n",
       "      <td>7100400</td>\n",
       "      <td>NaN</td>\n",
       "    </tr>\n",
       "    <tr>\n",
       "      <th>2017-03-17</th>\n",
       "      <td>1.581154</td>\n",
       "      <td>-0.946970</td>\n",
       "      <td>261.500000</td>\n",
       "      <td>6475900</td>\n",
       "      <td>NaN</td>\n",
       "    </tr>\n",
       "  </tbody>\n",
       "</table>\n",
       "<p>1692 rows × 5 columns</p>\n",
       "</div>"
      ],
      "text/plain": [
       "               HL_PCT  PCT_Change       Close    Volume      label\n",
       "Date                                                              \n",
       "2010-06-29  42.531349   25.736837   23.889999  18766300  24.020000\n",
       "2010-06-30  30.557946   -7.599848   23.830000  17187100  24.360001\n",
       "2010-07-01  27.873705  -12.160004   21.959999   8218800  24.950001\n",
       "2010-07-02  23.463395  -16.521735   19.200001   5139800  24.940001\n",
       "2010-07-06  26.342388  -19.449995   16.110001   6866900  24.660000\n",
       "...               ...         ...         ...       ...        ...\n",
       "2017-03-13   1.676418    0.551422  246.169998   3010700        NaN\n",
       "2017-03-14   4.918296    4.831173  258.000000   7575500        NaN\n",
       "2017-03-15   2.646791   -0.494165  255.729996   4816600        NaN\n",
       "2017-03-16   2.582414   -0.133386  262.049988   7100400        NaN\n",
       "2017-03-17   1.581154   -0.946970  261.500000   6475900        NaN\n",
       "\n",
       "[1692 rows x 5 columns]"
      ]
     },
     "execution_count": 11,
     "metadata": {},
     "output_type": "execute_result"
    }
   ],
   "source": [
    "df"
   ]
  },
  {
   "cell_type": "markdown",
   "metadata": {},
   "source": [
    "# Preparing the Data"
   ]
  },
  {
   "cell_type": "markdown",
   "metadata": {},
   "source": [
    "#### For training & testing scikit-learn cannot directly work with pandas DataFrames instead, it's made fundamentally to work with NumPy Arrays. So we convert the Cleaned Data frames to Numpy Arrays.\n",
    "\n",
    "#### Here, we use X to denote all the features and y for all the labels"
   ]
  },
  {
   "cell_type": "code",
   "execution_count": 12,
   "metadata": {},
   "outputs": [
    {
     "name": "stdout",
     "output_type": "stream",
     "text": [
      "[[ 4.25313488e+01  2.57368368e+01  2.38899990e+01  1.87663000e+07]\n",
      " [ 3.05579455e+01 -7.59984848e+00  2.38300000e+01  1.71871000e+07]\n",
      " [ 2.78737050e+01 -1.21600040e+01  2.19599990e+01  8.21880000e+06]\n",
      " ...\n",
      " [ 2.64679116e+00 -4.94164981e-01  2.55729996e+02  4.81660000e+06]\n",
      " [ 2.58241413e+00 -1.33386436e-01  2.62049988e+02  7.10040000e+06]\n",
      " [ 1.58115422e+00 -9.46969697e-01  2.61500000e+02  6.47590000e+06]]\n",
      "(1692, 4)\n",
      "2\n"
     ]
    }
   ],
   "source": [
    "X = np.array(df.drop(['label'], axis =1))\n",
    "\n",
    "# print(len(X), len(y))\n",
    "print(X)\n",
    "print(X.shape)\n",
    "print(X.ndim)"
   ]
  },
  {
   "cell_type": "markdown",
   "metadata": {},
   "source": [
    "#### Scaling is the process of cleaning & bringing all the data in the range of 1 and -1. It helps in increasing the computation time. In mathematical words, all the data is NORMALIZED. This function returns a new Dataset."
   ]
  },
  {
   "cell_type": "code",
   "execution_count": 13,
   "metadata": {},
   "outputs": [
    {
     "name": "stdout",
     "output_type": "stream",
     "text": [
      "1692\n"
     ]
    },
    {
     "data": {
      "text/plain": [
       "array([[13.67536423,  9.03129813, -1.15117251,  3.3752191 ],\n",
       "       [ 9.40618273, -2.66059874, -1.15180886,  3.00751021],\n",
       "       [ 8.44910229, -4.25994396, -1.17164229,  0.919286  ],\n",
       "       ...,\n",
       "       [-0.54568987, -0.16848179,  1.30774703,  0.12710059],\n",
       "       [-0.56864385, -0.04194895,  1.37477754,  0.6588721 ],\n",
       "       [-0.92564847, -0.3272902 ,  1.36894431,  0.51346037]])"
      ]
     },
     "execution_count": 13,
     "metadata": {},
     "output_type": "execute_result"
    }
   ],
   "source": [
    "X = preprocessing.scale(X)\n",
    "print(len(X))\n",
    "X"
   ]
  },
  {
   "cell_type": "markdown",
   "metadata": {},
   "source": [
    "#### After the data is preprocessed, we divide the data in 2 parts  \n",
    "#### 1. Data for Training & Testing - X\n",
    "#### 2. Data for prediction    - X_lately\n",
    "As decieded, we seperate the last 1% data from X and move it to X_lately for prediction"
   ]
  },
  {
   "cell_type": "code",
   "execution_count": 14,
   "metadata": {},
   "outputs": [
    {
     "name": "stdout",
     "output_type": "stream",
     "text": [
      "1522 1522\n"
     ]
    }
   ],
   "source": [
    "X_lately = X[-forecast_count:]\n",
    "X = X[:-forecast_count]\n",
    "df.dropna(inplace=True)\n",
    "y = np.array(df['label'])\n",
    "print(len(X), len(y))"
   ]
  },
  {
   "cell_type": "markdown",
   "metadata": {},
   "source": [
    "# Testing & Training"
   ]
  },
  {
   "cell_type": "markdown",
   "metadata": {},
   "source": [
    "#### cross_validation is outdated, now model_selection is used. Out of which we used \"test_train_split\" to split data into 2 parts\n",
    "1. Training Data - on which model will be fitted / trained.\n",
    "2. Tested Data - on which we'll find the output and calculate accuracy & score aka confidence.\n",
    "\n",
    "#### test_size = 0.2 means that out of 100% of new X, we'll train on 80% data and test on 20%"
   ]
  },
  {
   "cell_type": "code",
   "execution_count": 15,
   "metadata": {},
   "outputs": [],
   "source": [
    "X_train, X_test, y_train, y_test = model_selection.train_test_split(X, y, test_size =0.2)"
   ]
  },
  {
   "cell_type": "markdown",
   "metadata": {},
   "source": [
    "## Classifier is the Algorithm used.\n",
    "### Linear Regression"
   ]
  },
  {
   "cell_type": "code",
   "execution_count": 16,
   "metadata": {},
   "outputs": [],
   "source": [
    "# clf = LinearRegression(n_jobs =-1)"
   ]
  },
  {
   "cell_type": "markdown",
   "metadata": {},
   "source": [
    "## Training\n",
    "\n",
    "####  .fit( X, y ) -  it's the training of the model.\n",
    "#### The model learns trend for what values of different attributes in X_train, values in y_train exist."
   ]
  },
  {
   "cell_type": "code",
   "execution_count": 17,
   "metadata": {},
   "outputs": [],
   "source": [
    "# clf.fit(X_train, y_train)\n",
    "# with open ('linearregression.pickle', 'wb') as f:\n",
    "#     pickle.dump(clf, f)\n",
    "\n",
    "pickle_in = open('linearregression.pickle', 'rb')\n",
    "clf = pickle.load(pickle_in)"
   ]
  },
  {
   "cell_type": "markdown",
   "metadata": {},
   "source": [
    "## Pickling\n",
    "#### It's the process of training and then saving it to a file so that we don't need to train the classifier or the model again and again."
   ]
  },
  {
   "cell_type": "markdown",
   "metadata": {},
   "source": [
    "## Testing\n",
    "#### .score( X, y ) - it's the testing of model on the given data and calculation of accuracy of our model.\n",
    "#### Model after training, predicts the values of attributes in y_test after analysing the values of attributes in X_test."
   ]
  },
  {
   "cell_type": "code",
   "execution_count": 18,
   "metadata": {},
   "outputs": [
    {
     "data": {
      "text/plain": [
       "0.7765036131656691"
      ]
     },
     "execution_count": 18,
     "metadata": {},
     "output_type": "execute_result"
    }
   ],
   "source": [
    "accuracy = clf.score(X_test, y_test)\n",
    "accuracy"
   ]
  },
  {
   "cell_type": "markdown",
   "metadata": {},
   "source": [
    "### Training & Testing Using Support Vector Regression from Support Vector Machines (SVM)"
   ]
  },
  {
   "cell_type": "code",
   "execution_count": 19,
   "metadata": {},
   "outputs": [],
   "source": [
    "# for k in ['linear', 'poly', 'rbf', 'sigmoid']:\n",
    "#     clf = svm.SVR(kernel=k)\n",
    "#     clf.fit(X_train, y_train)\n",
    "#     confidence = clf.score(X_test, y_test)\n",
    "#     print(k, confidence)"
   ]
  },
  {
   "cell_type": "markdown",
   "metadata": {},
   "source": [
    "# Predicting"
   ]
  },
  {
   "cell_type": "markdown",
   "metadata": {},
   "source": [
    "#### .predict() - returns a list or number depending upon the input\n",
    "#### Making a seperate column \"Forecast\" for predicted values and making all it's values NaN"
   ]
  },
  {
   "cell_type": "code",
   "execution_count": 20,
   "metadata": {},
   "outputs": [
    {
     "data": {
      "text/html": [
       "<div>\n",
       "<style scoped>\n",
       "    .dataframe tbody tr th:only-of-type {\n",
       "        vertical-align: middle;\n",
       "    }\n",
       "\n",
       "    .dataframe tbody tr th {\n",
       "        vertical-align: top;\n",
       "    }\n",
       "\n",
       "    .dataframe thead th {\n",
       "        text-align: right;\n",
       "    }\n",
       "</style>\n",
       "<table border=\"1\" class=\"dataframe\">\n",
       "  <thead>\n",
       "    <tr style=\"text-align: right;\">\n",
       "      <th></th>\n",
       "      <th>HL_PCT</th>\n",
       "      <th>PCT_Change</th>\n",
       "      <th>Close</th>\n",
       "      <th>Volume</th>\n",
       "      <th>label</th>\n",
       "      <th>forecast</th>\n",
       "    </tr>\n",
       "    <tr>\n",
       "      <th>Date</th>\n",
       "      <th></th>\n",
       "      <th></th>\n",
       "      <th></th>\n",
       "      <th></th>\n",
       "      <th></th>\n",
       "      <th></th>\n",
       "    </tr>\n",
       "  </thead>\n",
       "  <tbody>\n",
       "    <tr>\n",
       "      <th>2010-06-29</th>\n",
       "      <td>42.531349</td>\n",
       "      <td>25.736837</td>\n",
       "      <td>23.889999</td>\n",
       "      <td>18766300</td>\n",
       "      <td>24.020000</td>\n",
       "      <td>NaN</td>\n",
       "    </tr>\n",
       "    <tr>\n",
       "      <th>2010-06-30</th>\n",
       "      <td>30.557946</td>\n",
       "      <td>-7.599848</td>\n",
       "      <td>23.830000</td>\n",
       "      <td>17187100</td>\n",
       "      <td>24.360001</td>\n",
       "      <td>NaN</td>\n",
       "    </tr>\n",
       "    <tr>\n",
       "      <th>2010-07-01</th>\n",
       "      <td>27.873705</td>\n",
       "      <td>-12.160004</td>\n",
       "      <td>21.959999</td>\n",
       "      <td>8218800</td>\n",
       "      <td>24.950001</td>\n",
       "      <td>NaN</td>\n",
       "    </tr>\n",
       "    <tr>\n",
       "      <th>2010-07-02</th>\n",
       "      <td>23.463395</td>\n",
       "      <td>-16.521735</td>\n",
       "      <td>19.200001</td>\n",
       "      <td>5139800</td>\n",
       "      <td>24.940001</td>\n",
       "      <td>NaN</td>\n",
       "    </tr>\n",
       "    <tr>\n",
       "      <th>2010-07-06</th>\n",
       "      <td>26.342388</td>\n",
       "      <td>-19.449995</td>\n",
       "      <td>16.110001</td>\n",
       "      <td>6866900</td>\n",
       "      <td>24.660000</td>\n",
       "      <td>NaN</td>\n",
       "    </tr>\n",
       "    <tr>\n",
       "      <th>...</th>\n",
       "      <td>...</td>\n",
       "      <td>...</td>\n",
       "      <td>...</td>\n",
       "      <td>...</td>\n",
       "      <td>...</td>\n",
       "      <td>...</td>\n",
       "    </tr>\n",
       "    <tr>\n",
       "      <th>2016-07-08</th>\n",
       "      <td>2.475524</td>\n",
       "      <td>-0.468321</td>\n",
       "      <td>216.779999</td>\n",
       "      <td>4074800</td>\n",
       "      <td>246.169998</td>\n",
       "      <td>NaN</td>\n",
       "    </tr>\n",
       "    <tr>\n",
       "      <th>2016-07-11</th>\n",
       "      <td>3.311924</td>\n",
       "      <td>2.191304</td>\n",
       "      <td>224.779999</td>\n",
       "      <td>5429800</td>\n",
       "      <td>258.000000</td>\n",
       "      <td>NaN</td>\n",
       "    </tr>\n",
       "    <tr>\n",
       "      <th>2016-07-12</th>\n",
       "      <td>1.917390</td>\n",
       "      <td>0.245421</td>\n",
       "      <td>224.649994</td>\n",
       "      <td>4571300</td>\n",
       "      <td>255.729996</td>\n",
       "      <td>NaN</td>\n",
       "    </tr>\n",
       "    <tr>\n",
       "      <th>2016-07-13</th>\n",
       "      <td>2.405921</td>\n",
       "      <td>-1.317074</td>\n",
       "      <td>222.529999</td>\n",
       "      <td>3567100</td>\n",
       "      <td>262.049988</td>\n",
       "      <td>NaN</td>\n",
       "    </tr>\n",
       "    <tr>\n",
       "      <th>2016-07-14</th>\n",
       "      <td>1.759782</td>\n",
       "      <td>-0.712619</td>\n",
       "      <td>221.529999</td>\n",
       "      <td>2675800</td>\n",
       "      <td>261.500000</td>\n",
       "      <td>NaN</td>\n",
       "    </tr>\n",
       "  </tbody>\n",
       "</table>\n",
       "<p>1522 rows × 6 columns</p>\n",
       "</div>"
      ],
      "text/plain": [
       "               HL_PCT  PCT_Change       Close    Volume       label  forecast\n",
       "Date                                                                         \n",
       "2010-06-29  42.531349   25.736837   23.889999  18766300   24.020000       NaN\n",
       "2010-06-30  30.557946   -7.599848   23.830000  17187100   24.360001       NaN\n",
       "2010-07-01  27.873705  -12.160004   21.959999   8218800   24.950001       NaN\n",
       "2010-07-02  23.463395  -16.521735   19.200001   5139800   24.940001       NaN\n",
       "2010-07-06  26.342388  -19.449995   16.110001   6866900   24.660000       NaN\n",
       "...               ...         ...         ...       ...         ...       ...\n",
       "2016-07-08   2.475524   -0.468321  216.779999   4074800  246.169998       NaN\n",
       "2016-07-11   3.311924    2.191304  224.779999   5429800  258.000000       NaN\n",
       "2016-07-12   1.917390    0.245421  224.649994   4571300  255.729996       NaN\n",
       "2016-07-13   2.405921   -1.317074  222.529999   3567100  262.049988       NaN\n",
       "2016-07-14   1.759782   -0.712619  221.529999   2675800  261.500000       NaN\n",
       "\n",
       "[1522 rows x 6 columns]"
      ]
     },
     "execution_count": 20,
     "metadata": {},
     "output_type": "execute_result"
    }
   ],
   "source": [
    "forecast_price = clf.predict(X_lately)\n",
    "forecast_price\n",
    "df['forecast'] = np.NaN\n",
    "df"
   ]
  },
  {
   "cell_type": "code",
   "execution_count": 21,
   "metadata": {},
   "outputs": [],
   "source": [
    "last_date = df.iloc[-1].name\n",
    "last_unix = last_date.timestamp()\n",
    "one_day = 86400\n",
    "next_unix = last_unix + one_day\n",
    "\n",
    "for i in forecast_price:\n",
    "    next_date = datetime.datetime.fromtimestamp(next_unix)\n",
    "    next_unix += one_day\n",
    "    df.loc[next_date] = [np.nan for _ in range(len(df.columns) -1)] + [i]"
   ]
  },
  {
   "cell_type": "markdown",
   "metadata": {},
   "source": [
    "#### In above code, we're adding more rows to the DataFrame, since our model won't predict anything other than Prices therefore we make all other NaNs and seperately add Forecast prices\n",
    "#### Since, new dates do not exist in the df therefore we generate more from DateTime module"
   ]
  },
  {
   "cell_type": "code",
   "execution_count": 22,
   "metadata": {},
   "outputs": [
    {
     "data": {
      "text/html": [
       "<div>\n",
       "<style scoped>\n",
       "    .dataframe tbody tr th:only-of-type {\n",
       "        vertical-align: middle;\n",
       "    }\n",
       "\n",
       "    .dataframe tbody tr th {\n",
       "        vertical-align: top;\n",
       "    }\n",
       "\n",
       "    .dataframe thead th {\n",
       "        text-align: right;\n",
       "    }\n",
       "</style>\n",
       "<table border=\"1\" class=\"dataframe\">\n",
       "  <thead>\n",
       "    <tr style=\"text-align: right;\">\n",
       "      <th></th>\n",
       "      <th>HL_PCT</th>\n",
       "      <th>PCT_Change</th>\n",
       "      <th>Close</th>\n",
       "      <th>Volume</th>\n",
       "      <th>label</th>\n",
       "      <th>forecast</th>\n",
       "    </tr>\n",
       "    <tr>\n",
       "      <th>Date</th>\n",
       "      <th></th>\n",
       "      <th></th>\n",
       "      <th></th>\n",
       "      <th></th>\n",
       "      <th></th>\n",
       "      <th></th>\n",
       "    </tr>\n",
       "  </thead>\n",
       "  <tbody>\n",
       "    <tr>\n",
       "      <th>2016-12-02 05:30:00</th>\n",
       "      <td>NaN</td>\n",
       "      <td>NaN</td>\n",
       "      <td>NaN</td>\n",
       "      <td>NaN</td>\n",
       "      <td>NaN</td>\n",
       "      <td>238.463120</td>\n",
       "    </tr>\n",
       "    <tr>\n",
       "      <th>2016-12-03 05:30:00</th>\n",
       "      <td>NaN</td>\n",
       "      <td>NaN</td>\n",
       "      <td>NaN</td>\n",
       "      <td>NaN</td>\n",
       "      <td>NaN</td>\n",
       "      <td>242.541744</td>\n",
       "    </tr>\n",
       "    <tr>\n",
       "      <th>2016-12-04 05:30:00</th>\n",
       "      <td>NaN</td>\n",
       "      <td>NaN</td>\n",
       "      <td>NaN</td>\n",
       "      <td>NaN</td>\n",
       "      <td>NaN</td>\n",
       "      <td>252.696757</td>\n",
       "    </tr>\n",
       "    <tr>\n",
       "      <th>2016-12-05 05:30:00</th>\n",
       "      <td>NaN</td>\n",
       "      <td>NaN</td>\n",
       "      <td>NaN</td>\n",
       "      <td>NaN</td>\n",
       "      <td>NaN</td>\n",
       "      <td>248.117750</td>\n",
       "    </tr>\n",
       "    <tr>\n",
       "      <th>2016-12-06 05:30:00</th>\n",
       "      <td>NaN</td>\n",
       "      <td>NaN</td>\n",
       "      <td>NaN</td>\n",
       "      <td>NaN</td>\n",
       "      <td>NaN</td>\n",
       "      <td>278.787237</td>\n",
       "    </tr>\n",
       "    <tr>\n",
       "      <th>2016-12-07 05:30:00</th>\n",
       "      <td>NaN</td>\n",
       "      <td>NaN</td>\n",
       "      <td>NaN</td>\n",
       "      <td>NaN</td>\n",
       "      <td>NaN</td>\n",
       "      <td>255.852195</td>\n",
       "    </tr>\n",
       "    <tr>\n",
       "      <th>2016-12-08 05:30:00</th>\n",
       "      <td>NaN</td>\n",
       "      <td>NaN</td>\n",
       "      <td>NaN</td>\n",
       "      <td>NaN</td>\n",
       "      <td>NaN</td>\n",
       "      <td>274.211920</td>\n",
       "    </tr>\n",
       "    <tr>\n",
       "      <th>2016-12-09 05:30:00</th>\n",
       "      <td>NaN</td>\n",
       "      <td>NaN</td>\n",
       "      <td>NaN</td>\n",
       "      <td>NaN</td>\n",
       "      <td>NaN</td>\n",
       "      <td>279.253642</td>\n",
       "    </tr>\n",
       "    <tr>\n",
       "      <th>2016-12-10 05:30:00</th>\n",
       "      <td>NaN</td>\n",
       "      <td>NaN</td>\n",
       "      <td>NaN</td>\n",
       "      <td>NaN</td>\n",
       "      <td>NaN</td>\n",
       "      <td>269.550980</td>\n",
       "    </tr>\n",
       "    <tr>\n",
       "      <th>2016-12-11 05:30:00</th>\n",
       "      <td>NaN</td>\n",
       "      <td>NaN</td>\n",
       "      <td>NaN</td>\n",
       "      <td>NaN</td>\n",
       "      <td>NaN</td>\n",
       "      <td>264.829112</td>\n",
       "    </tr>\n",
       "    <tr>\n",
       "      <th>2016-12-12 05:30:00</th>\n",
       "      <td>NaN</td>\n",
       "      <td>NaN</td>\n",
       "      <td>NaN</td>\n",
       "      <td>NaN</td>\n",
       "      <td>NaN</td>\n",
       "      <td>266.069332</td>\n",
       "    </tr>\n",
       "    <tr>\n",
       "      <th>2016-12-13 05:30:00</th>\n",
       "      <td>NaN</td>\n",
       "      <td>NaN</td>\n",
       "      <td>NaN</td>\n",
       "      <td>NaN</td>\n",
       "      <td>NaN</td>\n",
       "      <td>269.135314</td>\n",
       "    </tr>\n",
       "    <tr>\n",
       "      <th>2016-12-14 05:30:00</th>\n",
       "      <td>NaN</td>\n",
       "      <td>NaN</td>\n",
       "      <td>NaN</td>\n",
       "      <td>NaN</td>\n",
       "      <td>NaN</td>\n",
       "      <td>275.011240</td>\n",
       "    </tr>\n",
       "    <tr>\n",
       "      <th>2016-12-15 05:30:00</th>\n",
       "      <td>NaN</td>\n",
       "      <td>NaN</td>\n",
       "      <td>NaN</td>\n",
       "      <td>NaN</td>\n",
       "      <td>NaN</td>\n",
       "      <td>302.125975</td>\n",
       "    </tr>\n",
       "    <tr>\n",
       "      <th>2016-12-16 05:30:00</th>\n",
       "      <td>NaN</td>\n",
       "      <td>NaN</td>\n",
       "      <td>NaN</td>\n",
       "      <td>NaN</td>\n",
       "      <td>NaN</td>\n",
       "      <td>266.290148</td>\n",
       "    </tr>\n",
       "    <tr>\n",
       "      <th>2016-12-17 05:30:00</th>\n",
       "      <td>NaN</td>\n",
       "      <td>NaN</td>\n",
       "      <td>NaN</td>\n",
       "      <td>NaN</td>\n",
       "      <td>NaN</td>\n",
       "      <td>279.625608</td>\n",
       "    </tr>\n",
       "    <tr>\n",
       "      <th>2016-12-18 05:30:00</th>\n",
       "      <td>NaN</td>\n",
       "      <td>NaN</td>\n",
       "      <td>NaN</td>\n",
       "      <td>NaN</td>\n",
       "      <td>NaN</td>\n",
       "      <td>250.785561</td>\n",
       "    </tr>\n",
       "    <tr>\n",
       "      <th>2016-12-19 05:30:00</th>\n",
       "      <td>NaN</td>\n",
       "      <td>NaN</td>\n",
       "      <td>NaN</td>\n",
       "      <td>NaN</td>\n",
       "      <td>NaN</td>\n",
       "      <td>246.808869</td>\n",
       "    </tr>\n",
       "    <tr>\n",
       "      <th>2016-12-20 05:30:00</th>\n",
       "      <td>NaN</td>\n",
       "      <td>NaN</td>\n",
       "      <td>NaN</td>\n",
       "      <td>NaN</td>\n",
       "      <td>NaN</td>\n",
       "      <td>239.962361</td>\n",
       "    </tr>\n",
       "    <tr>\n",
       "      <th>2016-12-21 05:30:00</th>\n",
       "      <td>NaN</td>\n",
       "      <td>NaN</td>\n",
       "      <td>NaN</td>\n",
       "      <td>NaN</td>\n",
       "      <td>NaN</td>\n",
       "      <td>241.963726</td>\n",
       "    </tr>\n",
       "    <tr>\n",
       "      <th>2016-12-22 05:30:00</th>\n",
       "      <td>NaN</td>\n",
       "      <td>NaN</td>\n",
       "      <td>NaN</td>\n",
       "      <td>NaN</td>\n",
       "      <td>NaN</td>\n",
       "      <td>241.769451</td>\n",
       "    </tr>\n",
       "    <tr>\n",
       "      <th>2016-12-23 05:30:00</th>\n",
       "      <td>NaN</td>\n",
       "      <td>NaN</td>\n",
       "      <td>NaN</td>\n",
       "      <td>NaN</td>\n",
       "      <td>NaN</td>\n",
       "      <td>238.466347</td>\n",
       "    </tr>\n",
       "    <tr>\n",
       "      <th>2016-12-24 05:30:00</th>\n",
       "      <td>NaN</td>\n",
       "      <td>NaN</td>\n",
       "      <td>NaN</td>\n",
       "      <td>NaN</td>\n",
       "      <td>NaN</td>\n",
       "      <td>239.898371</td>\n",
       "    </tr>\n",
       "    <tr>\n",
       "      <th>2016-12-25 05:30:00</th>\n",
       "      <td>NaN</td>\n",
       "      <td>NaN</td>\n",
       "      <td>NaN</td>\n",
       "      <td>NaN</td>\n",
       "      <td>NaN</td>\n",
       "      <td>237.730609</td>\n",
       "    </tr>\n",
       "    <tr>\n",
       "      <th>2016-12-26 05:30:00</th>\n",
       "      <td>NaN</td>\n",
       "      <td>NaN</td>\n",
       "      <td>NaN</td>\n",
       "      <td>NaN</td>\n",
       "      <td>NaN</td>\n",
       "      <td>236.097473</td>\n",
       "    </tr>\n",
       "    <tr>\n",
       "      <th>2016-12-27 05:30:00</th>\n",
       "      <td>NaN</td>\n",
       "      <td>NaN</td>\n",
       "      <td>NaN</td>\n",
       "      <td>NaN</td>\n",
       "      <td>NaN</td>\n",
       "      <td>236.425941</td>\n",
       "    </tr>\n",
       "    <tr>\n",
       "      <th>2016-12-28 05:30:00</th>\n",
       "      <td>NaN</td>\n",
       "      <td>NaN</td>\n",
       "      <td>NaN</td>\n",
       "      <td>NaN</td>\n",
       "      <td>NaN</td>\n",
       "      <td>256.210890</td>\n",
       "    </tr>\n",
       "    <tr>\n",
       "      <th>2016-12-29 05:30:00</th>\n",
       "      <td>NaN</td>\n",
       "      <td>NaN</td>\n",
       "      <td>NaN</td>\n",
       "      <td>NaN</td>\n",
       "      <td>NaN</td>\n",
       "      <td>249.410053</td>\n",
       "    </tr>\n",
       "    <tr>\n",
       "      <th>2016-12-30 05:30:00</th>\n",
       "      <td>NaN</td>\n",
       "      <td>NaN</td>\n",
       "      <td>NaN</td>\n",
       "      <td>NaN</td>\n",
       "      <td>NaN</td>\n",
       "      <td>266.899685</td>\n",
       "    </tr>\n",
       "    <tr>\n",
       "      <th>2016-12-31 05:30:00</th>\n",
       "      <td>NaN</td>\n",
       "      <td>NaN</td>\n",
       "      <td>NaN</td>\n",
       "      <td>NaN</td>\n",
       "      <td>NaN</td>\n",
       "      <td>267.328562</td>\n",
       "    </tr>\n",
       "  </tbody>\n",
       "</table>\n",
       "</div>"
      ],
      "text/plain": [
       "                     HL_PCT  PCT_Change  Close  Volume  label    forecast\n",
       "Date                                                                     \n",
       "2016-12-02 05:30:00     NaN         NaN    NaN     NaN    NaN  238.463120\n",
       "2016-12-03 05:30:00     NaN         NaN    NaN     NaN    NaN  242.541744\n",
       "2016-12-04 05:30:00     NaN         NaN    NaN     NaN    NaN  252.696757\n",
       "2016-12-05 05:30:00     NaN         NaN    NaN     NaN    NaN  248.117750\n",
       "2016-12-06 05:30:00     NaN         NaN    NaN     NaN    NaN  278.787237\n",
       "2016-12-07 05:30:00     NaN         NaN    NaN     NaN    NaN  255.852195\n",
       "2016-12-08 05:30:00     NaN         NaN    NaN     NaN    NaN  274.211920\n",
       "2016-12-09 05:30:00     NaN         NaN    NaN     NaN    NaN  279.253642\n",
       "2016-12-10 05:30:00     NaN         NaN    NaN     NaN    NaN  269.550980\n",
       "2016-12-11 05:30:00     NaN         NaN    NaN     NaN    NaN  264.829112\n",
       "2016-12-12 05:30:00     NaN         NaN    NaN     NaN    NaN  266.069332\n",
       "2016-12-13 05:30:00     NaN         NaN    NaN     NaN    NaN  269.135314\n",
       "2016-12-14 05:30:00     NaN         NaN    NaN     NaN    NaN  275.011240\n",
       "2016-12-15 05:30:00     NaN         NaN    NaN     NaN    NaN  302.125975\n",
       "2016-12-16 05:30:00     NaN         NaN    NaN     NaN    NaN  266.290148\n",
       "2016-12-17 05:30:00     NaN         NaN    NaN     NaN    NaN  279.625608\n",
       "2016-12-18 05:30:00     NaN         NaN    NaN     NaN    NaN  250.785561\n",
       "2016-12-19 05:30:00     NaN         NaN    NaN     NaN    NaN  246.808869\n",
       "2016-12-20 05:30:00     NaN         NaN    NaN     NaN    NaN  239.962361\n",
       "2016-12-21 05:30:00     NaN         NaN    NaN     NaN    NaN  241.963726\n",
       "2016-12-22 05:30:00     NaN         NaN    NaN     NaN    NaN  241.769451\n",
       "2016-12-23 05:30:00     NaN         NaN    NaN     NaN    NaN  238.466347\n",
       "2016-12-24 05:30:00     NaN         NaN    NaN     NaN    NaN  239.898371\n",
       "2016-12-25 05:30:00     NaN         NaN    NaN     NaN    NaN  237.730609\n",
       "2016-12-26 05:30:00     NaN         NaN    NaN     NaN    NaN  236.097473\n",
       "2016-12-27 05:30:00     NaN         NaN    NaN     NaN    NaN  236.425941\n",
       "2016-12-28 05:30:00     NaN         NaN    NaN     NaN    NaN  256.210890\n",
       "2016-12-29 05:30:00     NaN         NaN    NaN     NaN    NaN  249.410053\n",
       "2016-12-30 05:30:00     NaN         NaN    NaN     NaN    NaN  266.899685\n",
       "2016-12-31 05:30:00     NaN         NaN    NaN     NaN    NaN  267.328562"
      ]
     },
     "execution_count": 22,
     "metadata": {},
     "output_type": "execute_result"
    }
   ],
   "source": [
    "df.tail(30)"
   ]
  },
  {
   "cell_type": "markdown",
   "metadata": {},
   "source": [
    "# Plotting"
   ]
  },
  {
   "cell_type": "code",
   "execution_count": 23,
   "metadata": {},
   "outputs": [],
   "source": [
    "style.use('ggplot')"
   ]
  },
  {
   "cell_type": "code",
   "execution_count": 24,
   "metadata": {},
   "outputs": [
    {
     "data": {
      "image/png": "[encoded data removed]",
      "text/plain": [
       "<Figure size 432x288 with 1 Axes>"
      ]
     },
     "metadata": {},
     "output_type": "display_data"
    }
   ],
   "source": [
    "df['Close'].plot()\n",
    "df['forecast'].plot()\n",
    "plt.legend(loc = 4)\n",
    "plt.xlabel('Date')\n",
    "plt.ylabel('Prices')\n",
    "plt.rcParams[\"figure.figsize\"] = (20, 20)\n",
    "plt.show()"
   ]
  },
  {
   "cell_type": "markdown",
   "metadata": {},
   "source": [
    "# Highlights from DataCamp\n",
    "#### Lasso is great for feature selection, but when building regression models, Ridge regression should be your first choice."
   ]
  },
  {
   "cell_type": "code",
   "execution_count": null,
   "metadata": {},
   "outputs": [],
   "source": []
  }
 ],
 "metadata": {
  "kernelspec": {
   "display_name": "Python 3",
   "language": "python",
   "name": "python3"
  },
  "language_info": {
   "codemirror_mode": {
    "name": "ipython",
    "version": 3
   },
   "file_extension": ".py",
   "mimetype": "text/x-python",
   "name": "python",
   "nbconvert_exporter": "python",
   "pygments_lexer": "ipython3",
   "version": "3.7.7"
  }
 },
 "nbformat": 4,
 "nbformat_minor": 4
}
