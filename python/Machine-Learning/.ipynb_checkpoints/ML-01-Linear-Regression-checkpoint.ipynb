{
 "cells": [
  {
   "cell_type": "code",
   "execution_count": 1,
   "metadata": {},
   "outputs": [],
   "source": [
    "import pandas as pd\n",
    "import math\n",
    "import numpy as np\n",
    "from sklearn import preprocessing, svm, model_selection\n",
    "from sklearn.linear_model import LinearRegression"
   ]
  },
  {
   "cell_type": "code",
   "execution_count": 2,
   "metadata": {},
   "outputs": [],
   "source": [
    "df = pd.read_csv('../Machine-Learning/Datasets/tesla-stock.csv', index_col = 0)"
   ]
  },
  {
   "cell_type": "code",
   "execution_count": 3,
   "metadata": {},
   "outputs": [
    {
     "data": {
      "text/html": [
       "<div>\n",
       "<style scoped>\n",
       "    .dataframe tbody tr th:only-of-type {\n",
       "        vertical-align: middle;\n",
       "    }\n",
       "\n",
       "    .dataframe tbody tr th {\n",
       "        vertical-align: top;\n",
       "    }\n",
       "\n",
       "    .dataframe thead th {\n",
       "        text-align: right;\n",
       "    }\n",
       "</style>\n",
       "<table border=\"1\" class=\"dataframe\">\n",
       "  <thead>\n",
       "    <tr style=\"text-align: right;\">\n",
       "      <th></th>\n",
       "      <th>Open</th>\n",
       "      <th>High</th>\n",
       "      <th>Low</th>\n",
       "      <th>Close</th>\n",
       "      <th>Volume</th>\n",
       "      <th>Adj Close</th>\n",
       "    </tr>\n",
       "    <tr>\n",
       "      <th>Date</th>\n",
       "      <th></th>\n",
       "      <th></th>\n",
       "      <th></th>\n",
       "      <th></th>\n",
       "      <th></th>\n",
       "      <th></th>\n",
       "    </tr>\n",
       "  </thead>\n",
       "  <tbody>\n",
       "    <tr>\n",
       "      <th>6/29/2010</th>\n",
       "      <td>19.000000</td>\n",
       "      <td>25.00</td>\n",
       "      <td>17.540001</td>\n",
       "      <td>23.889999</td>\n",
       "      <td>18766300</td>\n",
       "      <td>23.889999</td>\n",
       "    </tr>\n",
       "    <tr>\n",
       "      <th>6/30/2010</th>\n",
       "      <td>25.790001</td>\n",
       "      <td>30.42</td>\n",
       "      <td>23.299999</td>\n",
       "      <td>23.830000</td>\n",
       "      <td>17187100</td>\n",
       "      <td>23.830000</td>\n",
       "    </tr>\n",
       "    <tr>\n",
       "      <th>7/1/2010</th>\n",
       "      <td>25.000000</td>\n",
       "      <td>25.92</td>\n",
       "      <td>20.270000</td>\n",
       "      <td>21.959999</td>\n",
       "      <td>8218800</td>\n",
       "      <td>21.959999</td>\n",
       "    </tr>\n",
       "    <tr>\n",
       "      <th>7/2/2010</th>\n",
       "      <td>23.000000</td>\n",
       "      <td>23.10</td>\n",
       "      <td>18.709999</td>\n",
       "      <td>19.200001</td>\n",
       "      <td>5139800</td>\n",
       "      <td>19.200001</td>\n",
       "    </tr>\n",
       "    <tr>\n",
       "      <th>7/6/2010</th>\n",
       "      <td>20.000000</td>\n",
       "      <td>20.00</td>\n",
       "      <td>15.830000</td>\n",
       "      <td>16.110001</td>\n",
       "      <td>6866900</td>\n",
       "      <td>16.110001</td>\n",
       "    </tr>\n",
       "  </tbody>\n",
       "</table>\n",
       "</div>"
      ],
      "text/plain": [
       "                Open   High        Low      Close    Volume  Adj Close\n",
       "Date                                                                  \n",
       "6/29/2010  19.000000  25.00  17.540001  23.889999  18766300  23.889999\n",
       "6/30/2010  25.790001  30.42  23.299999  23.830000  17187100  23.830000\n",
       "7/1/2010   25.000000  25.92  20.270000  21.959999   8218800  21.959999\n",
       "7/2/2010   23.000000  23.10  18.709999  19.200001   5139800  19.200001\n",
       "7/6/2010   20.000000  20.00  15.830000  16.110001   6866900  16.110001"
      ]
     },
     "execution_count": 3,
     "metadata": {},
     "output_type": "execute_result"
    }
   ],
   "source": [
    "df.head()"
   ]
  },
  {
   "cell_type": "markdown",
   "metadata": {},
   "source": [
    "# Labels and Features"
   ]
  },
  {
   "cell_type": "markdown",
   "metadata": {},
   "source": [
    "### Features - it's the set of attributes which are actually input and on which our model will be trained.\n",
    "\n",
    "### Labels - It's the set of attributes which are actually output, i.e values on which data will be tested and results will be predicted."
   ]
  },
  {
   "cell_type": "markdown",
   "metadata": {},
   "source": [
    "#### Adding new and more usefull features in the DataFrame - "
   ]
  },
  {
   "cell_type": "code",
   "execution_count": 4,
   "metadata": {},
   "outputs": [],
   "source": [
    "df['HL_PCT'] = (df['High'] - df['Low']) / df['Low'] * 100\n",
    "df['PCT_Change'] = (df['Close'] - df['Open']) / df['Open'] * 100"
   ]
  },
  {
   "cell_type": "code",
   "execution_count": 5,
   "metadata": {},
   "outputs": [],
   "source": [
    "df = df[['HL_PCT', 'PCT_Change', 'Close', 'Volume']]"
   ]
  },
  {
   "cell_type": "code",
   "execution_count": 6,
   "metadata": {},
   "outputs": [
    {
     "data": {
      "text/html": [
       "<div>\n",
       "<style scoped>\n",
       "    .dataframe tbody tr th:only-of-type {\n",
       "        vertical-align: middle;\n",
       "    }\n",
       "\n",
       "    .dataframe tbody tr th {\n",
       "        vertical-align: top;\n",
       "    }\n",
       "\n",
       "    .dataframe thead th {\n",
       "        text-align: right;\n",
       "    }\n",
       "</style>\n",
       "<table border=\"1\" class=\"dataframe\">\n",
       "  <thead>\n",
       "    <tr style=\"text-align: right;\">\n",
       "      <th></th>\n",
       "      <th>HL_PCT</th>\n",
       "      <th>PCT_Change</th>\n",
       "      <th>Close</th>\n",
       "      <th>Volume</th>\n",
       "    </tr>\n",
       "    <tr>\n",
       "      <th>Date</th>\n",
       "      <th></th>\n",
       "      <th></th>\n",
       "      <th></th>\n",
       "      <th></th>\n",
       "    </tr>\n",
       "  </thead>\n",
       "  <tbody>\n",
       "    <tr>\n",
       "      <th>6/29/2010</th>\n",
       "      <td>42.531349</td>\n",
       "      <td>25.736837</td>\n",
       "      <td>23.889999</td>\n",
       "      <td>18766300</td>\n",
       "    </tr>\n",
       "    <tr>\n",
       "      <th>6/30/2010</th>\n",
       "      <td>30.557946</td>\n",
       "      <td>-7.599848</td>\n",
       "      <td>23.830000</td>\n",
       "      <td>17187100</td>\n",
       "    </tr>\n",
       "    <tr>\n",
       "      <th>7/1/2010</th>\n",
       "      <td>27.873705</td>\n",
       "      <td>-12.160004</td>\n",
       "      <td>21.959999</td>\n",
       "      <td>8218800</td>\n",
       "    </tr>\n",
       "    <tr>\n",
       "      <th>7/2/2010</th>\n",
       "      <td>23.463395</td>\n",
       "      <td>-16.521735</td>\n",
       "      <td>19.200001</td>\n",
       "      <td>5139800</td>\n",
       "    </tr>\n",
       "    <tr>\n",
       "      <th>7/6/2010</th>\n",
       "      <td>26.342388</td>\n",
       "      <td>-19.449995</td>\n",
       "      <td>16.110001</td>\n",
       "      <td>6866900</td>\n",
       "    </tr>\n",
       "  </tbody>\n",
       "</table>\n",
       "</div>"
      ],
      "text/plain": [
       "              HL_PCT  PCT_Change      Close    Volume\n",
       "Date                                                 \n",
       "6/29/2010  42.531349   25.736837  23.889999  18766300\n",
       "6/30/2010  30.557946   -7.599848  23.830000  17187100\n",
       "7/1/2010   27.873705  -12.160004  21.959999   8218800\n",
       "7/2/2010   23.463395  -16.521735  19.200001   5139800\n",
       "7/6/2010   26.342388  -19.449995  16.110001   6866900"
      ]
     },
     "execution_count": 6,
     "metadata": {},
     "output_type": "execute_result"
    }
   ],
   "source": [
    "df.head()"
   ]
  },
  {
   "cell_type": "markdown",
   "metadata": {},
   "source": [
    "forcast_out = math.ceil(0.01*len(df))\n",
    "#### This was done so that we can actually decide that for how many values / days / rows in future the value has to be predicted."
   ]
  },
  {
   "cell_type": "code",
   "execution_count": 7,
   "metadata": {},
   "outputs": [
    {
     "name": "stdout",
     "output_type": "stream",
     "text": [
      "17\n"
     ]
    }
   ],
   "source": [
    "forecast_col = 'Close'\n",
    "forecast_out = math.ceil(0.01*len(df))\n",
    "df.fillna(-99999, inplace=True)\n",
    "print(forecast_out)"
   ]
  },
  {
   "cell_type": "code",
   "execution_count": 26,
   "metadata": {},
   "outputs": [
    {
     "data": {
      "text/plain": [
       "Date\n",
       "7/23/2010      653600\n",
       "7/26/2010      922200\n",
       "7/27/2010      619700\n",
       "7/28/2010      467200\n",
       "7/29/2010      616000\n",
       "               ...   \n",
       "12/27/2016    5915700\n",
       "12/28/2016    3782500\n",
       "12/29/2016    4045000\n",
       "12/30/2016    4642600\n",
       "1/3/2017      5923300\n",
       "Name: Volume, Length: 1624, dtype: int64"
      ]
     },
     "execution_count": 26,
     "metadata": {},
     "output_type": "execute_result"
    }
   ],
   "source": [
    "df.iloc[forecast_out:, 3]"
   ]
  },
  {
   "cell_type": "markdown",
   "metadata": {},
   "source": [
    "#### .shift(+/- value) - it shifts the column or DataFrame up & down respectively by the no of rows mentioned(values)\n",
    "#### above iloc is used to demostrate the shift taking place in the DataFrame which you can see below."
   ]
  },
  {
   "cell_type": "code",
   "execution_count": 29,
   "metadata": {},
   "outputs": [],
   "source": [
    "df['label'] = df[forecast_col].shift(-forecast_out)\n",
    "df.dropna(inplace=True) # Removing all NaN(s) as they can't be used in Training / Testing of Model"
   ]
  },
  {
   "cell_type": "code",
   "execution_count": 30,
   "metadata": {},
   "outputs": [
    {
     "data": {
      "text/html": [
       "<div>\n",
       "<style scoped>\n",
       "    .dataframe tbody tr th:only-of-type {\n",
       "        vertical-align: middle;\n",
       "    }\n",
       "\n",
       "    .dataframe tbody tr th {\n",
       "        vertical-align: top;\n",
       "    }\n",
       "\n",
       "    .dataframe thead th {\n",
       "        text-align: right;\n",
       "    }\n",
       "</style>\n",
       "<table border=\"1\" class=\"dataframe\">\n",
       "  <thead>\n",
       "    <tr style=\"text-align: right;\">\n",
       "      <th></th>\n",
       "      <th>HL_PCT</th>\n",
       "      <th>PCT_Change</th>\n",
       "      <th>Close</th>\n",
       "      <th>Volume</th>\n",
       "      <th>label</th>\n",
       "    </tr>\n",
       "    <tr>\n",
       "      <th>Date</th>\n",
       "      <th></th>\n",
       "      <th></th>\n",
       "      <th></th>\n",
       "      <th></th>\n",
       "      <th></th>\n",
       "    </tr>\n",
       "  </thead>\n",
       "  <tbody>\n",
       "    <tr>\n",
       "      <th>6/29/2010</th>\n",
       "      <td>42.531349</td>\n",
       "      <td>25.736837</td>\n",
       "      <td>23.889999</td>\n",
       "      <td>18766300</td>\n",
       "      <td>21.290001</td>\n",
       "    </tr>\n",
       "    <tr>\n",
       "      <th>6/30/2010</th>\n",
       "      <td>30.557946</td>\n",
       "      <td>-7.599848</td>\n",
       "      <td>23.830000</td>\n",
       "      <td>17187100</td>\n",
       "      <td>20.950001</td>\n",
       "    </tr>\n",
       "    <tr>\n",
       "      <th>7/1/2010</th>\n",
       "      <td>27.873705</td>\n",
       "      <td>-12.160004</td>\n",
       "      <td>21.959999</td>\n",
       "      <td>8218800</td>\n",
       "      <td>20.549999</td>\n",
       "    </tr>\n",
       "    <tr>\n",
       "      <th>7/2/2010</th>\n",
       "      <td>23.463395</td>\n",
       "      <td>-16.521735</td>\n",
       "      <td>19.200001</td>\n",
       "      <td>5139800</td>\n",
       "      <td>20.719999</td>\n",
       "    </tr>\n",
       "    <tr>\n",
       "      <th>7/6/2010</th>\n",
       "      <td>26.342388</td>\n",
       "      <td>-19.449995</td>\n",
       "      <td>16.110001</td>\n",
       "      <td>6866900</td>\n",
       "      <td>20.350000</td>\n",
       "    </tr>\n",
       "    <tr>\n",
       "      <th>...</th>\n",
       "      <td>...</td>\n",
       "      <td>...</td>\n",
       "      <td>...</td>\n",
       "      <td>...</td>\n",
       "      <td>...</td>\n",
       "    </tr>\n",
       "    <tr>\n",
       "      <th>12/1/2016</th>\n",
       "      <td>4.160220</td>\n",
       "      <td>-3.383795</td>\n",
       "      <td>181.880005</td>\n",
       "      <td>5126400</td>\n",
       "      <td>219.529999</td>\n",
       "    </tr>\n",
       "    <tr>\n",
       "      <th>12/2/2016</th>\n",
       "      <td>2.711114</td>\n",
       "      <td>-0.771000</td>\n",
       "      <td>181.470001</td>\n",
       "      <td>4042300</td>\n",
       "      <td>219.740005</td>\n",
       "    </tr>\n",
       "    <tr>\n",
       "      <th>12/5/2016</th>\n",
       "      <td>3.495701</td>\n",
       "      <td>2.350561</td>\n",
       "      <td>186.800003</td>\n",
       "      <td>4072200</td>\n",
       "      <td>214.679993</td>\n",
       "    </tr>\n",
       "    <tr>\n",
       "      <th>12/6/2016</th>\n",
       "      <td>2.134886</td>\n",
       "      <td>0.177879</td>\n",
       "      <td>185.850006</td>\n",
       "      <td>3391600</td>\n",
       "      <td>213.690002</td>\n",
       "    </tr>\n",
       "    <tr>\n",
       "      <th>12/7/2016</th>\n",
       "      <td>4.540537</td>\n",
       "      <td>3.760408</td>\n",
       "      <td>193.149994</td>\n",
       "      <td>5461900</td>\n",
       "      <td>216.990005</td>\n",
       "    </tr>\n",
       "  </tbody>\n",
       "</table>\n",
       "<p>1624 rows × 5 columns</p>\n",
       "</div>"
      ],
      "text/plain": [
       "              HL_PCT  PCT_Change       Close    Volume       label\n",
       "Date                                                              \n",
       "6/29/2010  42.531349   25.736837   23.889999  18766300   21.290001\n",
       "6/30/2010  30.557946   -7.599848   23.830000  17187100   20.950001\n",
       "7/1/2010   27.873705  -12.160004   21.959999   8218800   20.549999\n",
       "7/2/2010   23.463395  -16.521735   19.200001   5139800   20.719999\n",
       "7/6/2010   26.342388  -19.449995   16.110001   6866900   20.350000\n",
       "...              ...         ...         ...       ...         ...\n",
       "12/1/2016   4.160220   -3.383795  181.880005   5126400  219.529999\n",
       "12/2/2016   2.711114   -0.771000  181.470001   4042300  219.740005\n",
       "12/5/2016   3.495701    2.350561  186.800003   4072200  214.679993\n",
       "12/6/2016   2.134886    0.177879  185.850006   3391600  213.690002\n",
       "12/7/2016   4.540537    3.760408  193.149994   5461900  216.990005\n",
       "\n",
       "[1624 rows x 5 columns]"
      ]
     },
     "execution_count": 30,
     "metadata": {},
     "output_type": "execute_result"
    }
   ],
   "source": [
    "df"
   ]
  },
  {
   "cell_type": "markdown",
   "metadata": {},
   "source": [
    "# Training and Testing"
   ]
  },
  {
   "cell_type": "markdown",
   "metadata": {},
   "source": [
    "#### scikit-learn cannot directly work with pandas DataFrames instead, it's made fundamentally to work with NumPy Arrays. So we convert the Cleaned Data frames to Numpy Arrays.\n",
    "\n",
    "#### Here, we use X to denote all the features and y for all the labels"
   ]
  },
  {
   "cell_type": "code",
   "execution_count": 31,
   "metadata": {},
   "outputs": [
    {
     "name": "stdout",
     "output_type": "stream",
     "text": [
      "1624 1624\n"
     ]
    }
   ],
   "source": [
    "X = np.array(df.drop(['label'], axis =1))\n",
    "y = np.array(df['label'])\n",
    "print(len(X), len(y))"
   ]
  },
  {
   "cell_type": "markdown",
   "metadata": {},
   "source": [
    "#### Scaling is the process of cleaning & bringing all the data in the range of 1 and -1. It helps in increasing the computation time. In mathematical words, all the data is NORMALIZED. This function returns a new Dataset."
   ]
  },
  {
   "cell_type": "code",
   "execution_count": 33,
   "metadata": {},
   "outputs": [
    {
     "name": "stdout",
     "output_type": "stream",
     "text": [
      "1624\n"
     ]
    }
   ],
   "source": [
    "X = preprocessing.scale(X)\n",
    "print(len(X))"
   ]
  },
  {
   "cell_type": "markdown",
   "metadata": {},
   "source": [
    "#### cross_validation is outdated, now model_selection is used. Out of which we used \"test_train_split\" to split data into 2 parts\n",
    "1. Training Data - on which model will be fitted / trained.\n",
    "2. Tested Data - on which we'll find the output and calculate accuracy & score aka confidence.\n",
    "\n",
    "#### test_size = 0.2 means, we'll train on 80% data and test on 20%"
   ]
  },
  {
   "cell_type": "code",
   "execution_count": 13,
   "metadata": {},
   "outputs": [],
   "source": [
    "X_train, X_test, y_train, y_test = model_selection.train_test_split(X, y, test_size =0.2)"
   ]
  },
  {
   "cell_type": "markdown",
   "metadata": {},
   "source": [
    "## Classifier is the Algorithm used.\n",
    "### Linear Regression"
   ]
  },
  {
   "cell_type": "code",
   "execution_count": 14,
   "metadata": {},
   "outputs": [],
   "source": [
    "clf = LinearRegression(n_jobs =-1)"
   ]
  },
  {
   "cell_type": "markdown",
   "metadata": {},
   "source": [
    "## Training\n",
    "\n",
    "####  .fit( X, y ) -  it's the training of the model.\n",
    "#### The model learns trend for what values of different attributes in X_train, values in y_train exist."
   ]
  },
  {
   "cell_type": "code",
   "execution_count": 15,
   "metadata": {},
   "outputs": [
    {
     "data": {
      "text/plain": [
       "LinearRegression(n_jobs=-1)"
      ]
     },
     "execution_count": 15,
     "metadata": {},
     "output_type": "execute_result"
    }
   ],
   "source": [
    "clf.fit(X_train, y_train)"
   ]
  },
  {
   "cell_type": "markdown",
   "metadata": {},
   "source": [
    "## Testing\n",
    "#### .score( X, y ) - it's the testing of model on the given data and calculation of accuracy of our model.\n",
    "#### Model after training, predicts the values of attributes in y_test after analysing the values of attributes in X_test."
   ]
  },
  {
   "cell_type": "code",
   "execution_count": 16,
   "metadata": {},
   "outputs": [
    {
     "data": {
      "text/plain": [
       "0.9659885187879884"
      ]
     },
     "execution_count": 16,
     "metadata": {},
     "output_type": "execute_result"
    }
   ],
   "source": [
    "accuracy = clf.score(X_test, y_test)\n",
    "accuracy"
   ]
  },
  {
   "cell_type": "markdown",
   "metadata": {},
   "source": [
    "### Training & Testing Using Support Vector Regression from Support Vector Machines (SVM)"
   ]
  },
  {
   "cell_type": "code",
   "execution_count": 17,
   "metadata": {},
   "outputs": [
    {
     "name": "stdout",
     "output_type": "stream",
     "text": [
      "linear 0.9655422784326977\n",
      "poly 0.5455350982854816\n",
      "rbf 0.9247996102303602\n",
      "sigmoid 0.9335850678347932\n"
     ]
    }
   ],
   "source": [
    "for k in ['linear', 'poly', 'rbf', 'sigmoid']:\n",
    "    clf = svm.SVR(kernel=k)\n",
    "    clf.fit(X_train, y_train)\n",
    "    confidence = clf.score(X_test, y_test)\n",
    "    print(k, confidence)"
   ]
  },
  {
   "cell_type": "code",
   "execution_count": null,
   "metadata": {},
   "outputs": [],
   "source": []
  }
 ],
 "metadata": {
  "kernelspec": {
   "display_name": "Python 3",
   "language": "python",
   "name": "python3"
  },
  "language_info": {
   "codemirror_mode": {
    "name": "ipython",
    "version": 3
   },
   "file_extension": ".py",
   "mimetype": "text/x-python",
   "name": "python",
   "nbconvert_exporter": "python",
   "pygments_lexer": "ipython3",
   "version": "3.7.7"
  }
 },
 "nbformat": 4,
 "nbformat_minor": 4
}
