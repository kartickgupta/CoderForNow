{
 "cells": [
  {
   "cell_type": "code",
   "execution_count": 1,
   "metadata": {},
   "outputs": [],
   "source": [
    "import numpy as np\n",
    "import pandas as pd\n",
    "from collections import Counter\n",
    "import random"
   ]
  },
  {
   "cell_type": "code",
   "execution_count": 2,
   "metadata": {},
   "outputs": [],
   "source": [
    "df = pd.read_csv('../Machine-Learning/Datasets/breast-cancer-wisconsin.data')\n",
    "df.replace('?',-99999, inplace=True)\n",
    "df.drop(['id'], 1, inplace=True)\n",
    "full_data = df.astype(float).values.tolist()\n",
    "\n",
    "random.shuffle(full_data)"
   ]
  },
  {
   "cell_type": "markdown",
   "metadata": {},
   "source": [
    "#### Since, we don't have train_test_split we manually shuffle it."
   ]
  },
  {
   "cell_type": "markdown",
   "metadata": {},
   "source": [
    "# k-NN Model\n",
    "#### 1. For a prediction set, we calculate it's eculidean distance from all points in the training set.\n",
    "#### 2. Save that [ *euclidean_distance, group_of_pt_in_Training_set*]  in a list.\n",
    "#### 3. Sort the list in terms of distance and make a list of nearest group numbers (class) as *votes*.\n",
    "#### 4. Calculate the most common class as the *vote_result*.\n",
    "#### 5. For *confidence* we calculate frequency of most common class / k"
   ]
  },
  {
   "cell_type": "code",
   "execution_count": 3,
   "metadata": {},
   "outputs": [],
   "source": [
    "def KNN(data, predict, k=3):\n",
    "    if len(data) >= k:\n",
    "        warnings.warn('The number of groups in the data is more than the K')\n",
    "    distance = []\n",
    "    for group in data:\n",
    "        for features in data[group]:\n",
    "            eculidean_distance = np.linalg.norm(np.array(features) - np.array(predict))\n",
    "            distance.append([eculidean_distance, group])\n",
    "    votes = [i[1] for i in sorted(distance)[:k]]\n",
    "    # Counter(votes).most_common(1) - returns a list of tuple of (most_commmon, frequency)\n",
    "    vote_result = Counter(votes).most_common(1)[0][0]\n",
    "    confidence = Counter(votes).most_common(1)[0][1] / k\n",
    "    return vote_result, confidence\n",
    "        "
   ]
  },
  {
   "cell_type": "markdown",
   "metadata": {},
   "source": [
    "# Data Prepration"
   ]
  },
  {
   "cell_type": "code",
   "execution_count": 4,
   "metadata": {},
   "outputs": [],
   "source": [
    "test_size = 0.2\n",
    "train_set = {2:[], 4:[]}\n",
    "test_set = {2:[], 4:[]}\n",
    "train_data = full_data[:-int(test_size*len(full_data))]\n",
    "test_data = full_data[-int(test_size*len(full_data)):]"
   ]
  },
  {
   "cell_type": "code",
   "execution_count": 5,
   "metadata": {},
   "outputs": [],
   "source": [
    "for i in train_data:\n",
    "    train_set[i[-1]].append(i[:-1])\n",
    "\n",
    "for i in test_data:\n",
    "    test_set[i[-1]].append(i[:-1])\n"
   ]
  },
  {
   "cell_type": "markdown",
   "metadata": {},
   "source": [
    "# Prediction and Testing\n",
    "#### 1. For all the prediction_sets in both the classes in the testing_set we'll run a loop.\n",
    "#### 2. If the most frequent class is same as the class of the prediction_set then our prediction is correct else wrong.\n",
    "#### 3. Else if it's wrong we'll calculate it's confidence (number_of_most_frequent_class / k )\n",
    "#### 4. Accuracy = correct / total"
   ]
  },
  {
   "cell_type": "code",
   "execution_count": 6,
   "metadata": {},
   "outputs": [
    {
     "name": "stdout",
     "output_type": "stream",
     "text": [
      "0.8\n",
      "1.0\n",
      "0.8\n",
      "0.8\n",
      "0.6\n",
      "0.9640287769784173\n"
     ]
    }
   ],
   "source": [
    "correct = 0\n",
    "total = 0\n",
    "for group in test_set:\n",
    "    for data in test_set[group]:\n",
    "        vote, confidence = KNN(train_set, data, k=5)\n",
    "        if vote == group:\n",
    "            correct += 1\n",
    "        else:\n",
    "            print(confidence)\n",
    "        total += 1\n",
    "print(correct/total)"
   ]
  },
  {
   "cell_type": "code",
   "execution_count": 7,
   "metadata": {},
   "outputs": [],
   "source": [
    "# [[plt.scatter(i[0], i[1], s =100, color = groups) for i in train_set[groups]] for groups in train_set]\n",
    "# # [[plt.scatter(i[0], i[1], s =100, color = groups) for i in test_set[groups]] for groups in test_set]\n",
    "# plt.show()"
   ]
  }
 ],
 "metadata": {
  "kernelspec": {
   "display_name": "Python 3",
   "language": "python",
   "name": "python3"
  },
  "language_info": {
   "codemirror_mode": {
    "name": "ipython",
    "version": 3
   },
   "file_extension": ".py",
   "mimetype": "text/x-python",
   "name": "python",
   "nbconvert_exporter": "python",
   "pygments_lexer": "ipython3",
   "version": "3.7.7"
  }
 },
 "nbformat": 4,
 "nbformat_minor": 4
}
