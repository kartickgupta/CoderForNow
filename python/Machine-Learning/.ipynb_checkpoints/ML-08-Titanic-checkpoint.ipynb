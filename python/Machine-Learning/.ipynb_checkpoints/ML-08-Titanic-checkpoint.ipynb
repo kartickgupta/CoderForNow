{
 "cells": [
  {
   "cell_type": "code",
   "execution_count": 1,
   "metadata": {},
   "outputs": [],
   "source": [
    "import pandas as pd\n",
    "import numpy as np\n",
    "from sklearn import preprocessing, model_selection\n",
    "from sklearn.cluster import KMeans, MeanShift\n",
    "import matplotlib.pyplot as plt\n",
    "from matplotlib import style\n",
    "style.use('ggplot')"
   ]
  },
  {
   "cell_type": "markdown",
   "metadata": {},
   "source": [
    "# KMeans Clustering"
   ]
  },
  {
   "cell_type": "code",
   "execution_count": 2,
   "metadata": {},
   "outputs": [],
   "source": [
    "df = pd.read_excel('../Machine-Learning/Datasets/titanic.xls')"
   ]
  },
  {
   "cell_type": "code",
   "execution_count": 3,
   "metadata": {},
   "outputs": [],
   "source": [
    "# df.info"
   ]
  },
  {
   "cell_type": "raw",
   "metadata": {},
   "source": [
    "print(df.columns.values)\n",
    "df.isnull().sum()"
   ]
  },
  {
   "cell_type": "code",
   "execution_count": 4,
   "metadata": {},
   "outputs": [
    {
     "data": {
      "text/plain": [
       "array(['pclass', 'survived', 'name', 'sex', 'age', 'sibsp', 'parch',\n",
       "       'ticket', 'fare', 'cabin', 'embarked', 'boat', 'body', 'home.dest'],\n",
       "      dtype=object)"
      ]
     },
     "execution_count": 4,
     "metadata": {},
     "output_type": "execute_result"
    }
   ],
   "source": [
    "df.columns.values"
   ]
  },
  {
   "cell_type": "code",
   "execution_count": 5,
   "metadata": {},
   "outputs": [],
   "source": [
    "df.drop(['name', 'body'], 1, inplace=True)\n",
    "df.fillna(0, inplace = True)"
   ]
  },
  {
   "cell_type": "code",
   "execution_count": 6,
   "metadata": {},
   "outputs": [],
   "source": [
    "# df.copy().apply(pd.to_numeric, errors='ignore')"
   ]
  },
  {
   "cell_type": "code",
   "execution_count": 7,
   "metadata": {},
   "outputs": [],
   "source": [
    "def handling_missing_data(df):\n",
    "    columns = df.columns.values\n",
    "    for column in columns:\n",
    "        text_to_digits = {}\n",
    "        \n",
    "        def convert_to_int(val):\n",
    "            return text_to_digits[val]\n",
    "        \n",
    "        if df[column].dtype != np.int64 and df[column].dtype != np.float64 : \n",
    "            column_content = df[column].values.tolist()\n",
    "            unique_values = set(column_content)\n",
    "            \n",
    "            x = 0\n",
    "            for unique in unique_values:\n",
    "                if unique not in text_to_digits:\n",
    "                    text_to_digits[unique] = x\n",
    "                    x += 1\n",
    "            df[column] = list(map(convert_to_int, df[column]))\n",
    "            \n",
    "    return df"
   ]
  },
  {
   "cell_type": "code",
   "execution_count": 8,
   "metadata": {},
   "outputs": [],
   "source": [
    "df = handling_missing_data(df)"
   ]
  },
  {
   "cell_type": "code",
   "execution_count": 9,
   "metadata": {},
   "outputs": [],
   "source": [
    "df.drop(['boat'], 1, inplace=True)"
   ]
  },
  {
   "cell_type": "code",
   "execution_count": 10,
   "metadata": {},
   "outputs": [
    {
     "data": {
      "text/plain": [
       "[68.52559205500381,\n",
       " 31.550802139037433,\n",
       " 68.44919786096256,\n",
       " 31.550802139037433,\n",
       " 68.44919786096256]"
      ]
     },
     "execution_count": 10,
     "metadata": {},
     "output_type": "execute_result"
    }
   ],
   "source": [
    "accuracy = []     \n",
    "for i in range(5):    \n",
    "    X = np.array(df.drop(['survived'], 1).astype(float))\n",
    "    X = preprocessing.scale(X)\n",
    "    y = np.array(df['survived'])\n",
    "\n",
    "    clf = KMeans(n_clusters =2)\n",
    "    clf.fit(X)\n",
    "\n",
    "    correct = 0\n",
    "    for i in range(len(X)):\n",
    "        predict_on = np.array(X[i].astype(float))\n",
    "        predict_on = predict_on.reshape(-1, len(predict_on))\n",
    "        prediction = clf.predict(predict_on)    \n",
    "        if prediction[0] == y[i]:\n",
    "            correct += 1\n",
    "        \n",
    "    accuracy.append(100 * (correct / len(X)))\n",
    "   \n",
    "\n",
    "accuracy"
   ]
  },
  {
   "cell_type": "markdown",
   "metadata": {},
   "source": [
    "# MeanShift Clustering"
   ]
  },
  {
   "cell_type": "code",
   "execution_count": 11,
   "metadata": {},
   "outputs": [],
   "source": [
    "df = pd.read_excel('../Machine-Learning/Datasets/titanic.xls')\n",
    "\n",
    "original_df = df.copy()\n",
    "df.drop(['body','name'], 1, inplace=True)\n",
    "df.fillna(0,inplace=True)\n",
    "\n",
    "def handle_non_numerical_data(df):\n",
    "    \n",
    "    # handling non-numerical data: must convert.\n",
    "    columns = df.columns.values\n",
    "\n",
    "    for column in columns:\n",
    "        text_digit_vals = {}\n",
    "        def convert_to_int(val):\n",
    "            return text_digit_vals[val]\n",
    "\n",
    "        #print(column,df[column].dtype)\n",
    "        if df[column].dtype != np.int64 and df[column].dtype != np.float64:\n",
    "            \n",
    "            column_contents = df[column].values.tolist()\n",
    "            #finding just the uniques\n",
    "            unique_elements = set(column_contents)\n",
    "            # great, found them. \n",
    "            x = 0\n",
    "            for unique in unique_elements:\n",
    "                if unique not in text_digit_vals:\n",
    "                    # creating dict that contains new\n",
    "                    # id per unique string\n",
    "                    text_digit_vals[unique] = x\n",
    "                    x+=1\n",
    "            # now we map the new \"id\" vlaue\n",
    "            # to replace the string. \n",
    "            df[column] = list(map(convert_to_int,df[column]))\n",
    "\n",
    "    return df\n",
    "\n",
    "df = handle_non_numerical_data(df)\n",
    "df.drop(['boat', 'home.dest'], 1, inplace=True)\n",
    "\n",
    "   \n",
    "X = np.array(df.drop(['survived'], 1).astype(float))\n",
    "X = preprocessing.scale(X)\n",
    "y = np.array(df['survived'])\n",
    "\n",
    "clf = MeanShift()\n",
    "clf.fit(X)\n",
    "\n",
    "labels = clf.labels_\n"
   ]
  },
  {
   "cell_type": "code",
   "execution_count": 12,
   "metadata": {},
   "outputs": [
    {
     "name": "stderr",
     "output_type": "stream",
     "text": [
      "/home/kartickgupta/anaconda3/lib/python3.7/site-packages/pandas/core/indexing.py:671: SettingWithCopyWarning: \n",
      "A value is trying to be set on a copy of a slice from a DataFrame\n",
      "\n",
      "See the caveats in the documentation: https://pandas.pydata.org/pandas-docs/stable/user_guide/indexing.html#returning-a-view-versus-a-copy\n",
      "  self._setitem_with_indexer(indexer, value)\n"
     ]
    }
   ],
   "source": [
    "labels = clf.labels_\n",
    "custers_centers = clf.cluster_centers_\n",
    "original_df['cluster'] = np.NaN\n",
    "for i in range(len(X)):\n",
    "    original_df['cluster'].iloc[i] = labels[i] "
   ]
  },
  {
   "cell_type": "code",
   "execution_count": 13,
   "metadata": {},
   "outputs": [
    {
     "data": {
      "text/plain": [
       "{0: 0.37480190174326466, 1: 1.0, 2: 0.1, 3: 0.6451612903225806}"
      ]
     },
     "execution_count": 13,
     "metadata": {},
     "output_type": "execute_result"
    }
   ],
   "source": [
    "n_clusters = np.unique(labels)\n",
    "survival_rates = {}\n",
    "for i in n_clusters:\n",
    "    temp_df = original_df[ original_df['cluster'] == float(i) ]\n",
    "    survival_cluster = temp_df[ temp_df['survived'] == 1]\n",
    "    survival_rate = len(survival_cluster) / len(temp_df)\n",
    "    survival_rates[i] = survival_rate\n",
    "    \n",
    "survival_rates"
   ]
  },
  {
   "cell_type": "code",
   "execution_count": 14,
   "metadata": {},
   "outputs": [
    {
     "name": "stdout",
     "output_type": "stream",
     "text": [
      "            pclass     survived          age        sibsp        parch  \\\n",
      "count  1262.000000  1262.000000  1001.000000  1262.000000  1262.000000   \n",
      "mean      2.327258     0.374802    29.537213     0.484152     0.309826   \n",
      "std       0.820940     0.484264    14.288395     1.045053     0.659138   \n",
      "min       1.000000     0.000000     0.166700     0.000000     0.000000   \n",
      "25%       2.000000     0.000000    21.000000     0.000000     0.000000   \n",
      "50%       3.000000     0.000000    28.000000     0.000000     0.000000   \n",
      "75%       3.000000     1.000000    38.000000     1.000000     0.000000   \n",
      "max       3.000000     1.000000    80.000000     8.000000     4.000000   \n",
      "\n",
      "              fare        body  cluster  \n",
      "count  1261.000000  116.000000   1262.0  \n",
      "mean     26.938662  160.637931      0.0  \n",
      "std      32.638522   98.297012      0.0  \n",
      "min       0.000000    1.000000      0.0  \n",
      "25%       7.895800   69.750000      0.0  \n",
      "50%      13.775000  160.500000      0.0  \n",
      "75%      29.000000  256.500000      0.0  \n",
      "max     247.520800  328.000000      0.0  \n"
     ]
    },
    {
     "data": {
      "text/html": [
       "<div>\n",
       "<style scoped>\n",
       "    .dataframe tbody tr th:only-of-type {\n",
       "        vertical-align: middle;\n",
       "    }\n",
       "\n",
       "    .dataframe tbody tr th {\n",
       "        vertical-align: top;\n",
       "    }\n",
       "\n",
       "    .dataframe thead th {\n",
       "        text-align: right;\n",
       "    }\n",
       "</style>\n",
       "<table border=\"1\" class=\"dataframe\">\n",
       "  <thead>\n",
       "    <tr style=\"text-align: right;\">\n",
       "      <th></th>\n",
       "      <th>pclass</th>\n",
       "      <th>survived</th>\n",
       "      <th>name</th>\n",
       "      <th>sex</th>\n",
       "      <th>age</th>\n",
       "      <th>sibsp</th>\n",
       "      <th>parch</th>\n",
       "      <th>ticket</th>\n",
       "      <th>fare</th>\n",
       "      <th>cabin</th>\n",
       "      <th>embarked</th>\n",
       "      <th>boat</th>\n",
       "      <th>body</th>\n",
       "      <th>home.dest</th>\n",
       "      <th>cluster</th>\n",
       "    </tr>\n",
       "  </thead>\n",
       "  <tbody>\n",
       "    <tr>\n",
       "      <th>35</th>\n",
       "      <td>1</td>\n",
       "      <td>1</td>\n",
       "      <td>Bowen, Miss. Grace Scott</td>\n",
       "      <td>female</td>\n",
       "      <td>45.0</td>\n",
       "      <td>0</td>\n",
       "      <td>0</td>\n",
       "      <td>PC 17608</td>\n",
       "      <td>262.3750</td>\n",
       "      <td>NaN</td>\n",
       "      <td>C</td>\n",
       "      <td>4</td>\n",
       "      <td>NaN</td>\n",
       "      <td>Cooperstown, NY</td>\n",
       "      <td>1.0</td>\n",
       "    </tr>\n",
       "    <tr>\n",
       "      <th>49</th>\n",
       "      <td>1</td>\n",
       "      <td>1</td>\n",
       "      <td>Cardeza, Mr. Thomas Drake Martinez</td>\n",
       "      <td>male</td>\n",
       "      <td>36.0</td>\n",
       "      <td>0</td>\n",
       "      <td>1</td>\n",
       "      <td>PC 17755</td>\n",
       "      <td>512.3292</td>\n",
       "      <td>B51 B53 B55</td>\n",
       "      <td>C</td>\n",
       "      <td>3</td>\n",
       "      <td>NaN</td>\n",
       "      <td>Austria-Hungary / Germantown, Philadelphia, PA</td>\n",
       "      <td>1.0</td>\n",
       "    </tr>\n",
       "    <tr>\n",
       "      <th>50</th>\n",
       "      <td>1</td>\n",
       "      <td>1</td>\n",
       "      <td>Cardeza, Mrs. James Warburton Martinez (Charlo...</td>\n",
       "      <td>female</td>\n",
       "      <td>58.0</td>\n",
       "      <td>0</td>\n",
       "      <td>1</td>\n",
       "      <td>PC 17755</td>\n",
       "      <td>512.3292</td>\n",
       "      <td>B51 B53 B55</td>\n",
       "      <td>C</td>\n",
       "      <td>3</td>\n",
       "      <td>NaN</td>\n",
       "      <td>Germantown, Philadelphia, PA</td>\n",
       "      <td>1.0</td>\n",
       "    </tr>\n",
       "    <tr>\n",
       "      <th>66</th>\n",
       "      <td>1</td>\n",
       "      <td>1</td>\n",
       "      <td>Chaudanson, Miss. Victorine</td>\n",
       "      <td>female</td>\n",
       "      <td>36.0</td>\n",
       "      <td>0</td>\n",
       "      <td>0</td>\n",
       "      <td>PC 17608</td>\n",
       "      <td>262.3750</td>\n",
       "      <td>B61</td>\n",
       "      <td>C</td>\n",
       "      <td>4</td>\n",
       "      <td>NaN</td>\n",
       "      <td>NaN</td>\n",
       "      <td>1.0</td>\n",
       "    </tr>\n",
       "    <tr>\n",
       "      <th>183</th>\n",
       "      <td>1</td>\n",
       "      <td>1</td>\n",
       "      <td>Lesurer, Mr. Gustave J</td>\n",
       "      <td>male</td>\n",
       "      <td>35.0</td>\n",
       "      <td>0</td>\n",
       "      <td>0</td>\n",
       "      <td>PC 17755</td>\n",
       "      <td>512.3292</td>\n",
       "      <td>B101</td>\n",
       "      <td>C</td>\n",
       "      <td>3</td>\n",
       "      <td>NaN</td>\n",
       "      <td>NaN</td>\n",
       "      <td>1.0</td>\n",
       "    </tr>\n",
       "    <tr>\n",
       "      <th>302</th>\n",
       "      <td>1</td>\n",
       "      <td>1</td>\n",
       "      <td>Ward, Miss. Anna</td>\n",
       "      <td>female</td>\n",
       "      <td>35.0</td>\n",
       "      <td>0</td>\n",
       "      <td>0</td>\n",
       "      <td>PC 17755</td>\n",
       "      <td>512.3292</td>\n",
       "      <td>NaN</td>\n",
       "      <td>C</td>\n",
       "      <td>3</td>\n",
       "      <td>NaN</td>\n",
       "      <td>NaN</td>\n",
       "      <td>1.0</td>\n",
       "    </tr>\n",
       "  </tbody>\n",
       "</table>\n",
       "</div>"
      ],
      "text/plain": [
       "     pclass  survived                                               name  \\\n",
       "35        1         1                           Bowen, Miss. Grace Scott   \n",
       "49        1         1                 Cardeza, Mr. Thomas Drake Martinez   \n",
       "50        1         1  Cardeza, Mrs. James Warburton Martinez (Charlo...   \n",
       "66        1         1                        Chaudanson, Miss. Victorine   \n",
       "183       1         1                             Lesurer, Mr. Gustave J   \n",
       "302       1         1                                   Ward, Miss. Anna   \n",
       "\n",
       "        sex   age  sibsp  parch    ticket      fare        cabin embarked  \\\n",
       "35   female  45.0      0      0  PC 17608  262.3750          NaN        C   \n",
       "49     male  36.0      0      1  PC 17755  512.3292  B51 B53 B55        C   \n",
       "50   female  58.0      0      1  PC 17755  512.3292  B51 B53 B55        C   \n",
       "66   female  36.0      0      0  PC 17608  262.3750          B61        C   \n",
       "183    male  35.0      0      0  PC 17755  512.3292         B101        C   \n",
       "302  female  35.0      0      0  PC 17755  512.3292          NaN        C   \n",
       "\n",
       "    boat  body                                       home.dest  cluster  \n",
       "35     4   NaN                                 Cooperstown, NY      1.0  \n",
       "49     3   NaN  Austria-Hungary / Germantown, Philadelphia, PA      1.0  \n",
       "50     3   NaN                    Germantown, Philadelphia, PA      1.0  \n",
       "66     4   NaN                                             NaN      1.0  \n",
       "183    3   NaN                                             NaN      1.0  \n",
       "302    3   NaN                                             NaN      1.0  "
      ]
     },
     "execution_count": 14,
     "metadata": {},
     "output_type": "execute_result"
    }
   ],
   "source": [
    "print(original_df[original_df['cluster'] == 0].describe())\n",
    "original_df[original_df['cluster'] == 1]"
   ]
  },
  {
   "cell_type": "code",
   "execution_count": null,
   "metadata": {},
   "outputs": [],
   "source": []
  }
 ],
 "metadata": {
  "kernelspec": {
   "display_name": "Python 3",
   "language": "python",
   "name": "python3"
  },
  "language_info": {
   "codemirror_mode": {
    "name": "ipython",
    "version": 3
   },
   "file_extension": ".py",
   "mimetype": "text/x-python",
   "name": "python",
   "nbconvert_exporter": "python",
   "pygments_lexer": "ipython3",
   "version": "3.7.7"
  }
 },
 "nbformat": 4,
 "nbformat_minor": 4
}
