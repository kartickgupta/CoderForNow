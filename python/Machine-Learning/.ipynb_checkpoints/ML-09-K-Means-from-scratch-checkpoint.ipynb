{
 "cells": [
  {
   "cell_type": "code",
   "execution_count": 1,
   "metadata": {},
   "outputs": [],
   "source": [
    "import matplotlib.pyplot as plt\n",
    "from matplotlib import style\n",
    "import numpy as np\n",
    "from sklearn.cluster import KMeans\n",
    "import random\n",
    "style.use('ggplot')\n",
    "\n",
    "#ORIGINAL:\n",
    "\n",
    "X = np.array([[1, 2],\n",
    "              [1.5, 1.8],\n",
    "              [5, 8],\n",
    "              [8, 8],\n",
    "              [1, 0.6],\n",
    "              [9, 11]])\n",
    "colors = 10*[\"g\",\"r\",\"c\",\"b\",\"k\"]"
   ]
  },
  {
   "cell_type": "code",
   "execution_count": 15,
   "metadata": {},
   "outputs": [],
   "source": [
    "class KMeansClustering():\n",
    "    def __init__(self, k = 2, iterations = 300, tol= 0.0001):\n",
    "        self.k = k\n",
    "        self.iterations = iterations\n",
    "        self.tol = tol\n",
    "        \n",
    "    def fit(self, Data):\n",
    "        \n",
    "        # centroids is a dict containing centroids and keys as centroid no.\n",
    "        # no. of keys = k\n",
    "        self.centroids = {}\n",
    "        \n",
    "        for i in range(self.k):  \n",
    "            self.centroids[i] = Data[i]\n",
    "        \n",
    "        # classifications - dict containing list of classified pts according to diff. classes\n",
    "        # classification = class and keys of \"classicaitions\" dictionary\n",
    "        for i in range(self.iterations):\n",
    "            self.classifications = {}\n",
    "\n",
    "            for i in range(self.k):\n",
    "                self.classifications[i] = [] # List belonging to a particular class ( which is key of dict classifications)\n",
    "            \n",
    "            # We calculate distance of each featureset from the current centroids\n",
    "            # And index of minimum distance is the class / classification of those pts\n",
    "            # We append it in the classification dict\n",
    "            for featureset in Data:\n",
    "                distances = [np.linalg.norm(featureset - self.centroids[centroid]) for centroid in self.centroids]\n",
    "                classification = distances.index(min(distances))\n",
    "                self.classifications[classification].append(featureset)\n",
    "            \n",
    "            # We save the original centroids\n",
    "            original_centroids = dict(self.centroids)\n",
    "            \n",
    "            # We claculate the new centroids acc. to all the pts\n",
    "            # Belonging to a specific class / classifiaction\n",
    "            for classification in self.classifications:\n",
    "                self.centroids[classification] = np.average(self.classifications[classification], axis = 0)\n",
    "            \n",
    "            optimized = True\n",
    "            \n",
    "            # We calculate change% of new and old centroids\n",
    "            # if it's less than tolerance, we're optimized.\n",
    "            for c in self.centroids:\n",
    "                old_centroid = original_centroids[c]\n",
    "                current_centroid = self.centroids[c]\n",
    "                if np.sum((current_centroid - old_centroid )/ old_centroid * 100) > self.tol:\n",
    "                     optimized = False\n",
    "            \n",
    "            if optimized:\n",
    "                break\n",
    "                    \n",
    "    \n",
    "    # We calculate distance of each featureset from the current centroids\n",
    "    # And index of minimum distance is the class / classification of those pts\n",
    "    # we return its class / classification.                \n",
    "    def predict(self, Data):\n",
    "        for unmodeled_data in Data:\n",
    "            distances = [np.linalg.norm(unmodeled_data - self.centroids[centroid]) for centroid in self.centroids]\n",
    "            classification = distances.index(min(distances))\n",
    "            return classification"
   ]
  },
  {
   "cell_type": "code",
   "execution_count": 22,
   "metadata": {},
   "outputs": [
    {
     "name": "stdout",
     "output_type": "stream",
     "text": [
      "0\n",
      "1\n",
      "0\n",
      "1\n",
      "1\n",
      "[4.594803828480844, 5.517648452415616]\n"
     ]
    },
    {
     "data": {
      "image/png": "[encoded data removed]",
      "text/plain": [
       "<Figure size 432x288 with 1 Axes>"
      ]
     },
     "metadata": {},
     "output_type": "display_data"
    }
   ],
   "source": [
    "clf = KMeansClustering()\n",
    "clf.fit(X)\n",
    "\n",
    "for centroid in clf.centroids:\n",
    "    plt.scatter(clf.centroids[centroid][0], clf.centroids[centroid][1], marker=\"o\", color=\"k\", s=15, linewidths=5 )\n",
    "\n",
    "for classifiaction in clf.classifications:\n",
    "    color = colors[classifiaction]\n",
    "    for features in clf.classifications[classifiaction]:\n",
    "        plt.scatter(features[0], features[1], marker='*', s = 10, color = color, linewidths=5)\n",
    "\n",
    "unknowns = np.array([[1,3],\n",
    "                     [8,9],\n",
    "                     [0,3],\n",
    "                     [5,4],\n",
    "                     [6,4],])\n",
    "\n",
    "for dataset in unknowns:\n",
    "    classification = clf.predict(dataset)\n",
    "    plt.scatter(dataset[0], dataset[1], marker='X', s = 100, color = colors[classification], linewidths=5)\n",
    "    print(classification)\n",
    "\n",
    "dist = [np.linalg.norm(unknowns[3] - clf.centroids[centroid]) for centroid in clf.centroids]\n",
    "print(dist)"
   ]
  },
  {
   "cell_type": "markdown",
   "metadata": {},
   "source": [
    "# Working on Titianic Dataset"
   ]
  },
  {
   "cell_type": "code",
   "execution_count": 33,
   "metadata": {},
   "outputs": [
    {
     "name": "stderr",
     "output_type": "stream",
     "text": [
      "/home/kartickgupta/anaconda3/lib/python3.7/site-packages/ipykernel_launcher.py:47: RuntimeWarning: divide by zero encountered in true_divide\n"
     ]
    }
   ],
   "source": [
    "import pandas as pd\n",
    "df = pd.read_excel('../Machine-Learning/Datasets/titanic.xls')\n",
    "df.drop(['name', 'body'], 1, inplace=True)\n",
    "df.fillna(0, inplace = True)\n",
    "\n",
    "def handling_missing_data(df):\n",
    "    columns = df.columns.values\n",
    "    for column in columns:\n",
    "        text_to_digits = {}\n",
    "        \n",
    "        def convert_to_int(val):\n",
    "            return text_to_digits[val]\n",
    "        \n",
    "        if df[column].dtype != np.int64 and df[column].dtype != np.float64 : \n",
    "            column_content = df[column].values.tolist()\n",
    "            unique_values = set(column_content)\n",
    "            \n",
    "            x = 1\n",
    "            for unique in unique_values:\n",
    "                if unique not in text_to_digits:\n",
    "                    text_to_digits[unique] = x\n",
    "                    x += 1\n",
    "            df[column] = list(map(convert_to_int, df[column]))\n",
    "            \n",
    "    return df\n",
    "\n",
    "df = handling_missing_data(df)\n",
    "\n",
    "df.drop(['boat'], 1, inplace=True)\n",
    "# accuracy = []     \n",
    " \n",
    "X = np.array(df.drop(['survived'], 1).astype(float))\n",
    "# X = preprocessing.scale(X)\n",
    "y = np.array(df['survived'])\n",
    "\n",
    "clf = KMeansClustering()\n",
    "clf.fit(X)\n",
    "\n",
    "correct = 0\n",
    "for i in range(len(X)):\n",
    "    predict_on = np.array(X[i].astype(float))\n",
    "    predict_on = predict_on.reshape(-1, len(predict_on))\n",
    "    prediction = clf.predict(predict_on)    \n",
    "    if prediction == y[i]:\n",
    "        correct += 1\n",
    "\n",
    "# accuracy = correct / len(X)"
   ]
  },
  {
   "cell_type": "code",
   "execution_count": null,
   "metadata": {},
   "outputs": [],
   "source": []
  },
  {
   "cell_type": "code",
   "execution_count": null,
   "metadata": {},
   "outputs": [],
   "source": []
  }
 ],
 "metadata": {
  "kernelspec": {
   "display_name": "Python 3",
   "language": "python",
   "name": "python3"
  },
  "language_info": {
   "codemirror_mode": {
    "name": "ipython",
    "version": 3
   },
   "file_extension": ".py",
   "mimetype": "text/x-python",
   "name": "python",
   "nbconvert_exporter": "python",
   "pygments_lexer": "ipython3",
   "version": "3.7.7"
  }
 },
 "nbformat": 4,
 "nbformat_minor": 4
}
