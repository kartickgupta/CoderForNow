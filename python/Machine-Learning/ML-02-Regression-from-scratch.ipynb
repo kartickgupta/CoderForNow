{
 "cells": [
  {
   "cell_type": "code",
   "execution_count": 1,
   "metadata": {},
   "outputs": [],
   "source": [
    "from statistics import mean\n",
    "import numpy as np\n",
    "import matplotlib.pyplot as plt\n",
    "from matplotlib import style\n",
    "import random\n",
    "\n",
    "style.use('fivethirtyeight')"
   ]
  },
  {
   "cell_type": "code",
   "execution_count": 2,
   "metadata": {},
   "outputs": [],
   "source": [
    "xs = np.array([1,2,3,4,5], dtype= np.float64)\n",
    "ys = np.array([5,4,6,5,6], dtype= np.float64)"
   ]
  },
  {
   "cell_type": "markdown",
   "metadata": {},
   "source": [
    "# Training\n",
    "# Finding the best fit line - slope and y-intercept"
   ]
  },
  {
   "cell_type": "code",
   "execution_count": 3,
   "metadata": {},
   "outputs": [],
   "source": [
    "def best_fit_slope(xs, ys):\n",
    "    m = (((mean(xs) * mean(ys)) - mean(xs * ys)) /\n",
    "         ((mean(xs) **2 ) - mean((xs) * (xs))))\n",
    "    \n",
    "    b = mean(ys) - m * mean(xs)\n",
    "    \n",
    "    return m, b"
   ]
  },
  {
   "cell_type": "markdown",
   "metadata": {},
   "source": [
    "# Testing\n",
    "## Finding the r2 error:"
   ]
  },
  {
   "cell_type": "code",
   "execution_count": 4,
   "metadata": {},
   "outputs": [],
   "source": [
    "def squared_error(y_original, y_line):\n",
    "    return sum((y_original - y_line)**2)\n",
    "\n",
    "def squared_error_mean(y_original):\n",
    "    mean_val = mean(y_original)\n",
    "    return sum([(y-mean_val)**2 for y in y_original])\n",
    "\n",
    "def coeff_of_determination(y_orig, y_line):\n",
    "    return 1 - (squared_error(y_orig, y_line) / squared_error_mean(y_orig))"
   ]
  },
  {
   "cell_type": "code",
   "execution_count": 5,
   "metadata": {},
   "outputs": [],
   "source": [
    "def create_dataset(hm, variance, step = 2, correlation='pos'):\n",
    "    val = 1\n",
    "    ys = []\n",
    "    for i in range(hm):\n",
    "        y = val + random.randrange(-variance, variance)\n",
    "        ys.append(y)\n",
    "        if correlation == 'pos':\n",
    "            val += step\n",
    "        elif correlation == 'neg':\n",
    "            val -= step\n",
    "    xs = [x for x in range(hm)]\n",
    "    return np.array(ys, dtype = np.float64), np.array(xs, dtype=np.float64)"
   ]
  },
  {
   "cell_type": "code",
   "execution_count": 6,
   "metadata": {},
   "outputs": [],
   "source": [
    "ys, xs = create_dataset(40, 40, 2, 'neg')"
   ]
  },
  {
   "cell_type": "code",
   "execution_count": 7,
   "metadata": {},
   "outputs": [
    {
     "name": "stdout",
     "output_type": "stream",
     "text": [
      "-2.753377110694184 12.965853658536588\n"
     ]
    }
   ],
   "source": [
    "m, b = best_fit_slope(xs, ys)\n",
    "print(m, b)"
   ]
  },
  {
   "cell_type": "code",
   "execution_count": 8,
   "metadata": {},
   "outputs": [
    {
     "name": "stdout",
     "output_type": "stream",
     "text": [
      "15 -28.334803001876175\n"
     ]
    }
   ],
   "source": [
    "predicted_x = 15\n",
    "predicted_y = predicted_x*m +b\n",
    "print(predicted_x, predicted_y)"
   ]
  },
  {
   "cell_type": "code",
   "execution_count": 9,
   "metadata": {},
   "outputs": [
    {
     "data": {
      "image/png": "[encoded data removed]",
      "text/plain": [
       "<Figure size 432x288 with 1 Axes>"
      ]
     },
     "metadata": {},
     "output_type": "display_data"
    }
   ],
   "source": [
    "regression_line = [m*x +b for x in xs]\n",
    "plt.scatter(xs, ys, color = 'red', label = 'data')\n",
    "plt.plot(xs, regression_line, label = 'regression line')\n",
    "plt.scatter(predicted_x, predicted_y, s= 100, color = 'green')\n",
    "plt.legend(loc = 4)\n",
    "plt.show()"
   ]
  },
  {
   "cell_type": "code",
   "execution_count": 10,
   "metadata": {},
   "outputs": [
    {
     "data": {
      "text/plain": [
       "0.7287142291406352"
      ]
     },
     "execution_count": 10,
     "metadata": {},
     "output_type": "execute_result"
    }
   ],
   "source": [
    "r_squared = coeff_of_determination(ys, regression_line)\n",
    "r_squared"
   ]
  },
  {
   "cell_type": "code",
   "execution_count": null,
   "metadata": {},
   "outputs": [],
   "source": []
  },
  {
   "cell_type": "code",
   "execution_count": null,
   "metadata": {},
   "outputs": [],
   "source": []
  }
 ],
 "metadata": {
  "kernelspec": {
   "display_name": "Python 3",
   "language": "python",
   "name": "python3"
  },
  "language_info": {
   "codemirror_mode": {
    "name": "ipython",
    "version": 3
   },
   "file_extension": ".py",
   "mimetype": "text/x-python",
   "name": "python",
   "nbconvert_exporter": "python",
   "pygments_lexer": "ipython3",
   "version": "3.7.7"
  }
 },
 "nbformat": 4,
 "nbformat_minor": 4
}
