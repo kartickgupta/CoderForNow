{
 "cells": [
  {
   "cell_type": "code",
   "execution_count": 1,
   "metadata": {},
   "outputs": [
    {
     "data": {
      "image/png": "[encoded data removed]",
      "text/plain": [
       "<Figure size 432x288 with 1 Axes>"
      ]
     },
     "metadata": {},
     "output_type": "display_data"
    }
   ],
   "source": [
    "import matplotlib.pyplot as plt\n",
    "from matplotlib import style\n",
    "style.use('ggplot')\n",
    "import numpy as np\n",
    "\n",
    "X = np.array([[1, 2],\n",
    "              [1.5, 1.8],\n",
    "              [5, 8 ],\n",
    "              [8, 8],\n",
    "              [1, 0.6],\n",
    "              [9,11.2],\n",
    "              [8,2],\n",
    "              [10,2],\n",
    "              [9,3],])\n",
    "\n",
    "\n",
    "\n",
    "colors = 10*[\"g\",\"r\",\"c\",\"b\",\"k\"]"
   ]
  },
  {
   "cell_type": "code",
   "execution_count": 2,
   "metadata": {},
   "outputs": [],
   "source": [
    "class MeanShift:\n",
    "    def __init__(self, radius =4):\n",
    "        self.radius = radius\n",
    "    \n",
    "    def fit(self, data):\n",
    "        centroids = {}\n",
    "        \n",
    "        for i in range(len(data)):\n",
    "            centroids[i] = data[i]\n",
    "        while True:    \n",
    "            new_centroids = []\n",
    "            for i in centroids:\n",
    "                in_bandwidth = []\n",
    "                centroid = centroids[i]\n",
    "                for featureset in data:\n",
    "                    if np.linalg.norm(featureset - centroid) < self.radius:\n",
    "                        in_bandwidth.append(featureset)\n",
    "                        \n",
    "                new_centroid = np.average(in_bandwidth, axis = 0)\n",
    "                new_centroids.append(tuple(new_centroid))\n",
    "                \n",
    "            uniques = sorted(list(set(new_centroids)))\n",
    "            \n",
    "            old_centroids = dict(centroids)             \n",
    "            centroids = {}\n",
    "            optimized = True\n",
    "            \n",
    "            for i in range(len(uniques)):\n",
    "                centroids[i] = np.array(uniques[i])\n",
    "            \n",
    "            for i in centroids:\n",
    "                if not np.array_equal(centroids[i], old_centroids[i]):\n",
    "                    optimized = False\n",
    "                    if not optimized:\n",
    "                        break\n",
    "                \n",
    "                if not optimized:\n",
    "                    break\n",
    "            \n",
    "            if optimized:\n",
    "                break\n",
    "        \n",
    "        \n",
    "        self.centroids = centroids"
   ]
  },
  {
   "cell_type": "code",
   "execution_count": 5,
   "metadata": {},
   "outputs": [
    {
     "data": {
      "image/png": "[encoded data removed]",
      "text/plain": [
       "<Figure size 432x288 with 1 Axes>"
      ]
     },
     "metadata": {},
     "output_type": "display_data"
    }
   ],
   "source": [
    "clf = MeanShift()\n",
    "clf.fit(X)\n",
    "centroids = clf.centroids\n",
    "for c in centroids:\n",
    "    plt.scatter(centroids[c][0], centroids[c][1], marker='X', s=100, color='k')"
   ]
  },
  {
   "cell_type": "code",
   "execution_count": 4,
   "metadata": {},
   "outputs": [],
   "source": [
    "# class Mean_Shift:\n",
    "#     def __init__(self, radius=4):\n",
    "#         self.radius = radius\n",
    "\n",
    "#     def fit(self, data):\n",
    "#         centroids = {}\n",
    "\n",
    "#         for i in range(len(data)):\n",
    "#             centroids[i] = data[i]\n",
    "        \n",
    "#         while True:\n",
    "#             new_centroids = []\n",
    "#             for i in centroids:\n",
    "#                 in_bandwidth = []\n",
    "#                 centroid = centroids[i]\n",
    "#                 for featureset in data:\n",
    "#                     if np.linalg.norm(featureset-centroid) < self.radius:\n",
    "#                         in_bandwidth.append(featureset)\n",
    "\n",
    "#                 new_centroid = np.average(in_bandwidth,axis=0)\n",
    "#                 new_centroids.append(tuple(new_centroid))\n",
    "\n",
    "#             uniques = sorted(list(set(new_centroids)))\n",
    "\n",
    "#             prev_centroids = dict(centroids)\n",
    "\n",
    "#             centroids = {}\n",
    "#             for i in range(len(uniques)):\n",
    "#                 centroids[i] = np.array(uniques[i])\n",
    "\n",
    "#             optimized = True\n",
    "\n",
    "#             for i in centroids:\n",
    "#                 if not np.array_equal(centroids[i], prev_centroids[i]):\n",
    "#                     optimized = False\n",
    "#                 if not optimized:\n",
    "#                     break\n",
    "                \n",
    "#             if optimized:\n",
    "#                 break\n",
    "\n",
    "#         self.centroids = centroids\n",
    "\n",
    "\n",
    "\n",
    "# clf = Mean_Shift()\n",
    "# clf.fit(X)\n"
   ]
  },
  {
   "cell_type": "code",
   "execution_count": null,
   "metadata": {},
   "outputs": [],
   "source": []
  }
 ],
 "metadata": {
  "kernelspec": {
   "display_name": "Python 3",
   "language": "python",
   "name": "python3"
  },
  "language_info": {
   "codemirror_mode": {
    "name": "ipython",
    "version": 3
   },
   "file_extension": ".py",
   "mimetype": "text/x-python",
   "name": "python",
   "nbconvert_exporter": "python",
   "pygments_lexer": "ipython3",
   "version": "3.7.7"
  }
 },
 "nbformat": 4,
 "nbformat_minor": 4
}
