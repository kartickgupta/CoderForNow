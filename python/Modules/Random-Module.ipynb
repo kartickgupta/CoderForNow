{
 "cells": [
  {
   "cell_type": "code",
   "execution_count": 1,
   "metadata": {},
   "outputs": [],
   "source": [
    "import random"
   ]
  },
  {
   "cell_type": "markdown",
   "metadata": {},
   "source": [
    "# Gives random integers from a to b inclusive\n"
   ]
  },
  {
   "cell_type": "code",
   "execution_count": 2,
   "metadata": {},
   "outputs": [
    {
     "data": {
      "text/plain": [
       "69"
      ]
     },
     "execution_count": 2,
     "metadata": {},
     "output_type": "execute_result"
    }
   ],
   "source": [
    "value = random.randint(0, 100)\n",
    "value"
   ]
  },
  {
   "cell_type": "markdown",
   "metadata": {},
   "source": [
    "# To make a choice from a given set\n"
   ]
  },
  {
   "cell_type": "code",
   "execution_count": 3,
   "metadata": {},
   "outputs": [
    {
     "name": "stdout",
     "output_type": "stream",
     "text": [
      "Hi, KarticK!\n"
     ]
    }
   ],
   "source": [
    "greetings = ['Hi', 'Hello', 'Howdy', 'Namaste','Kemcho']\n",
    "greet = random.choice(greetings)\n",
    "print(f'{greet}, KarticK!')"
   ]
  },
  {
   "cell_type": "markdown",
   "metadata": {},
   "source": [
    "# To make multiple choices from a given along with weights (Optional)\n"
   ]
  },
  {
   "cell_type": "code",
   "execution_count": 4,
   "metadata": {},
   "outputs": [
    {
     "data": {
      "text/plain": [
       "['Orange',\n",
       " 'Yellow',\n",
       " 'White',\n",
       " 'Purple',\n",
       " 'Red',\n",
       " 'White',\n",
       " 'White',\n",
       " 'Green',\n",
       " 'Red',\n",
       " 'Green',\n",
       " 'White',\n",
       " 'Purple',\n",
       " 'White',\n",
       " 'Green',\n",
       " 'White',\n",
       " 'White',\n",
       " 'Green',\n",
       " 'White',\n",
       " 'Yellow',\n",
       " 'Red']"
      ]
     },
     "execution_count": 4,
     "metadata": {},
     "output_type": "execute_result"
    }
   ],
   "source": [
    "colours = ['Red', 'Yellow', 'White', 'Orange', 'Purple', 'Green']\n",
    "color = random.choices(colours, weights=[10, 10, 23, 5, 6, 15], k= 20)\n",
    "color"
   ]
  },
  {
   "cell_type": "markdown",
   "metadata": {},
   "source": [
    "# For choosing random values like cards in a deck\n"
   ]
  },
  {
   "cell_type": "code",
   "execution_count": 11,
   "metadata": {},
   "outputs": [
    {
     "data": {
      "text/plain": [
       "[44, 47, 10, 32, 13, 12, 16, 39, 29, 15]"
      ]
     },
     "execution_count": 11,
     "metadata": {},
     "output_type": "execute_result"
    }
   ],
   "source": [
    "deck = [i for i in range(1, 53)]\n",
    "cards = random.sample(deck, k = 10)\n",
    "cards\n"
   ]
  },
  {
   "cell_type": "markdown",
   "metadata": {},
   "source": [
    "## We can shuffle the deck"
   ]
  },
  {
   "cell_type": "code",
   "execution_count": 6,
   "metadata": {},
   "outputs": [
    {
     "data": {
      "text/plain": [
       "[13,\n",
       " 41,\n",
       " 36,\n",
       " 46,\n",
       " 16,\n",
       " 17,\n",
       " 23,\n",
       " 4,\n",
       " 52,\n",
       " 33,\n",
       " 5,\n",
       " 22,\n",
       " 42,\n",
       " 10,\n",
       " 24,\n",
       " 11,\n",
       " 37,\n",
       " 44,\n",
       " 51,\n",
       " 32,\n",
       " 14,\n",
       " 50,\n",
       " 39,\n",
       " 38,\n",
       " 35,\n",
       " 28,\n",
       " 30,\n",
       " 19,\n",
       " 20,\n",
       " 47,\n",
       " 15,\n",
       " 40,\n",
       " 7,\n",
       " 1,\n",
       " 8,\n",
       " 31,\n",
       " 6,\n",
       " 18,\n",
       " 45,\n",
       " 2,\n",
       " 29,\n",
       " 49,\n",
       " 27,\n",
       " 25,\n",
       " 9,\n",
       " 21,\n",
       " 3,\n",
       " 43,\n",
       " 48,\n",
       " 34,\n",
       " 26,\n",
       " 12]"
      ]
     },
     "execution_count": 6,
     "metadata": {},
     "output_type": "execute_result"
    }
   ],
   "source": [
    "random.shuffle(deck)\n",
    "deck\n"
   ]
  },
  {
   "cell_type": "code",
   "execution_count": null,
   "metadata": {},
   "outputs": [],
   "source": []
  }
 ],
 "metadata": {
  "kernelspec": {
   "display_name": "Python 3",
   "language": "python",
   "name": "python3"
  },
  "language_info": {
   "codemirror_mode": {
    "name": "ipython",
    "version": 3
   },
   "file_extension": ".py",
   "mimetype": "text/x-python",
   "name": "python",
   "nbconvert_exporter": "python",
   "pygments_lexer": "ipython3",
   "version": "3.7.7"
  }
 },
 "nbformat": 4,
 "nbformat_minor": 4
}
